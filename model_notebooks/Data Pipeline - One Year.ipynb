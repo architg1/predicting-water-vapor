{
 "cells": [
  {
   "cell_type": "code",
   "execution_count": 1,
   "id": "9fd993a8",
   "metadata": {},
   "outputs": [
    {
     "name": "stderr",
     "output_type": "stream",
     "text": [
      "/Users/architg/miniforge3/envs/tf_m1/lib/python3.8/site-packages/xgboost/compat.py:36: FutureWarning: pandas.Int64Index is deprecated and will be removed from pandas in a future version. Use pandas.Index with the appropriate dtype instead.\n",
      "  from pandas import MultiIndex, Int64Index\n"
     ]
    }
   ],
   "source": [
    "import pandas as pd\n",
    "import numpy as np\n",
    "import seaborn as sns\n",
    "import matplotlib.pyplot as plt\n",
    "import xgboost\n",
    "import tensorflow as tf\n",
    "import sklearn\n",
    "import sys, os\n",
    "import requests\n",
    "import time"
   ]
  },
  {
   "cell_type": "code",
   "execution_count": 2,
   "id": "d60a70fa",
   "metadata": {},
   "outputs": [],
   "source": [
    "data = pd.read_csv('USMAP_3000points.csv')"
   ]
  },
  {
   "cell_type": "code",
   "execution_count": 3,
   "id": "02f90d23",
   "metadata": {},
   "outputs": [
    {
     "name": "stdout",
     "output_type": "stream",
     "text": [
      "3268\n"
     ]
    },
    {
     "data": {
      "text/html": [
       "<div>\n",
       "<style scoped>\n",
       "    .dataframe tbody tr th:only-of-type {\n",
       "        vertical-align: middle;\n",
       "    }\n",
       "\n",
       "    .dataframe tbody tr th {\n",
       "        vertical-align: top;\n",
       "    }\n",
       "\n",
       "    .dataframe thead th {\n",
       "        text-align: right;\n",
       "    }\n",
       "</style>\n",
       "<table border=\"1\" class=\"dataframe\">\n",
       "  <thead>\n",
       "    <tr style=\"text-align: right;\">\n",
       "      <th></th>\n",
       "      <th>lat</th>\n",
       "      <th>lon</th>\n",
       "    </tr>\n",
       "  </thead>\n",
       "  <tbody>\n",
       "    <tr>\n",
       "      <th>0</th>\n",
       "      <td>48.0</td>\n",
       "      <td>-124.5</td>\n",
       "    </tr>\n",
       "    <tr>\n",
       "      <th>1</th>\n",
       "      <td>40.0</td>\n",
       "      <td>-124.0</td>\n",
       "    </tr>\n",
       "    <tr>\n",
       "      <th>2</th>\n",
       "      <td>40.5</td>\n",
       "      <td>-124.0</td>\n",
       "    </tr>\n",
       "    <tr>\n",
       "      <th>3</th>\n",
       "      <td>41.0</td>\n",
       "      <td>-124.0</td>\n",
       "    </tr>\n",
       "    <tr>\n",
       "      <th>4</th>\n",
       "      <td>41.5</td>\n",
       "      <td>-124.0</td>\n",
       "    </tr>\n",
       "  </tbody>\n",
       "</table>\n",
       "</div>"
      ],
      "text/plain": [
       "    lat    lon\n",
       "0  48.0 -124.5\n",
       "1  40.0 -124.0\n",
       "2  40.5 -124.0\n",
       "3  41.0 -124.0\n",
       "4  41.5 -124.0"
      ]
     },
     "execution_count": 3,
     "metadata": {},
     "output_type": "execute_result"
    }
   ],
   "source": [
    "print(len(data))\n",
    "data.head()"
   ]
  },
  {
   "cell_type": "code",
   "execution_count": 63,
   "id": "e2f9d01d",
   "metadata": {},
   "outputs": [],
   "source": [
    "n = 696\n",
    "X = data.iloc[n].lat\n",
    "Y = data.iloc[n].lon"
   ]
  },
  {
   "cell_type": "code",
   "execution_count": 64,
   "id": "bf1858ec",
   "metadata": {},
   "outputs": [],
   "source": [
    "attr ='air_temperature, clearsky_dhi, clearsky_dni, clearsky_ghi, cloud_type, dew_point, dhi, dni, fill_flag, ghi, relative_humidity, solar_zenith_angle, surface_albedo, surface_pressure, total_precipitable_water, wind_direction, wind_speed'\n",
    "year = '2020'\n",
    "leap = 'false'\n",
    "interval = '30'\n",
    "utc = 'false'\n",
    "name = 'Archit+Gupta'\n",
    "affiliation = 'NTU'\n",
    "mailing_list = 'false'\n",
    "reason = 'Research'\n",
    "email = 'archit001@e.ntu.edu'"
   ]
  },
  {
   "cell_type": "code",
   "execution_count": 65,
   "id": "c87c4779",
   "metadata": {},
   "outputs": [
    {
     "name": "stdout",
     "output_type": "stream",
     "text": [
      "48.0\n",
      "-112.5\n"
     ]
    }
   ],
   "source": [
    "lon = Y\n",
    "lat = X\n",
    "print(lat)\n",
    "print(lon)"
   ]
  },
  {
   "cell_type": "code",
   "execution_count": 66,
   "id": "9b43efd2",
   "metadata": {},
   "outputs": [],
   "source": [
    "api_key = 'yJWqNPJq3NXlbvu4kpQfqjOUln0Nh4unfovTLvHW'\n",
    "\n",
    "url = 'http://developer.nrel.gov/api/solar/nsrdb_psm3_download.csv?wkt=POINT({lon}%20{lat})&names={year}&leap_day={leap}&interval={interval}&utc={utc}&full_name={name}&email={email}&affiliation={affiliation}&mailing_list={mailing_list}&reason={reason}&api_key={api}&attributes={attr}'.format(year=year, lat=lat, lon=lon, leap=leap, interval=interval, utc=utc, name=name, email=email, mailing_list=mailing_list, affiliation=affiliation, reason=reason, api=api_key, attr=attr)\n",
    "url = url.replace(\" \",\"\")\n",
    "\n",
    "# %2c in url -> comma\n",
    "# %20 in url -> space"
   ]
  },
  {
   "cell_type": "code",
   "execution_count": 67,
   "id": "38445a96",
   "metadata": {},
   "outputs": [],
   "source": [
    "info = pd.read_csv(url, low_memory=False, nrows = 2)"
   ]
  },
  {
   "cell_type": "code",
   "execution_count": 68,
   "id": "776f4aaf",
   "metadata": {},
   "outputs": [
    {
     "name": "stdout",
     "output_type": "stream",
     "text": [
      "Latitude:  48.01\n",
      "Longitude:  -112.5\n",
      "Elevation:  1323\n",
      "Time Zone:  -7\n"
     ]
    }
   ],
   "source": [
    "# print(info.head(n=1))\n",
    "latitude = info['Latitude']\n",
    "longitude = info['Longitude']\n",
    "elevation = info['Elevation']\n",
    "time_zone = info['Local Time Zone']\n",
    "print('Latitude: ', latitude[0])\n",
    "print('Longitude: ', longitude[0])\n",
    "print('Elevation: ', elevation[0])\n",
    "print('Time Zone: ',time_zone[0])"
   ]
  },
  {
   "cell_type": "code",
   "execution_count": 69,
   "id": "08a67bdb",
   "metadata": {},
   "outputs": [],
   "source": [
    "df = pd.read_csv(url, low_memory=False, skiprows = 2)"
   ]
  },
  {
   "cell_type": "code",
   "execution_count": 70,
   "id": "db7e68c5",
   "metadata": {},
   "outputs": [
    {
     "data": {
      "text/html": [
       "<div>\n",
       "<style scoped>\n",
       "    .dataframe tbody tr th:only-of-type {\n",
       "        vertical-align: middle;\n",
       "    }\n",
       "\n",
       "    .dataframe tbody tr th {\n",
       "        vertical-align: top;\n",
       "    }\n",
       "\n",
       "    .dataframe thead th {\n",
       "        text-align: right;\n",
       "    }\n",
       "</style>\n",
       "<table border=\"1\" class=\"dataframe\">\n",
       "  <thead>\n",
       "    <tr style=\"text-align: right;\">\n",
       "      <th></th>\n",
       "      <th>Year</th>\n",
       "      <th>Month</th>\n",
       "      <th>Day</th>\n",
       "      <th>Hour</th>\n",
       "      <th>Minute</th>\n",
       "      <th>Temperature</th>\n",
       "      <th>Clearsky DHI</th>\n",
       "      <th>Clearsky DNI</th>\n",
       "      <th>Clearsky GHI</th>\n",
       "      <th>Cloud Type</th>\n",
       "      <th>...</th>\n",
       "      <th>DNI</th>\n",
       "      <th>Fill Flag</th>\n",
       "      <th>GHI</th>\n",
       "      <th>Relative Humidity</th>\n",
       "      <th>Solar Zenith Angle</th>\n",
       "      <th>Surface Albedo</th>\n",
       "      <th>Pressure</th>\n",
       "      <th>Precipitable Water</th>\n",
       "      <th>Wind Direction</th>\n",
       "      <th>Wind Speed</th>\n",
       "    </tr>\n",
       "  </thead>\n",
       "  <tbody>\n",
       "    <tr>\n",
       "      <th>0</th>\n",
       "      <td>2020</td>\n",
       "      <td>1</td>\n",
       "      <td>1</td>\n",
       "      <td>0</td>\n",
       "      <td>0</td>\n",
       "      <td>1.2</td>\n",
       "      <td>0</td>\n",
       "      <td>0</td>\n",
       "      <td>0</td>\n",
       "      <td>9</td>\n",
       "      <td>...</td>\n",
       "      <td>0</td>\n",
       "      <td>0</td>\n",
       "      <td>0</td>\n",
       "      <td>75.48</td>\n",
       "      <td>154.18</td>\n",
       "      <td>0.18</td>\n",
       "      <td>844</td>\n",
       "      <td>0.8</td>\n",
       "      <td>256</td>\n",
       "      <td>4.7</td>\n",
       "    </tr>\n",
       "    <tr>\n",
       "      <th>1</th>\n",
       "      <td>2020</td>\n",
       "      <td>1</td>\n",
       "      <td>1</td>\n",
       "      <td>0</td>\n",
       "      <td>30</td>\n",
       "      <td>0.9</td>\n",
       "      <td>0</td>\n",
       "      <td>0</td>\n",
       "      <td>0</td>\n",
       "      <td>9</td>\n",
       "      <td>...</td>\n",
       "      <td>0</td>\n",
       "      <td>0</td>\n",
       "      <td>0</td>\n",
       "      <td>77.03</td>\n",
       "      <td>155.03</td>\n",
       "      <td>0.18</td>\n",
       "      <td>843</td>\n",
       "      <td>0.8</td>\n",
       "      <td>256</td>\n",
       "      <td>4.5</td>\n",
       "    </tr>\n",
       "    <tr>\n",
       "      <th>2</th>\n",
       "      <td>2020</td>\n",
       "      <td>1</td>\n",
       "      <td>1</td>\n",
       "      <td>1</td>\n",
       "      <td>0</td>\n",
       "      <td>0.7</td>\n",
       "      <td>0</td>\n",
       "      <td>0</td>\n",
       "      <td>0</td>\n",
       "      <td>9</td>\n",
       "      <td>...</td>\n",
       "      <td>0</td>\n",
       "      <td>0</td>\n",
       "      <td>0</td>\n",
       "      <td>77.08</td>\n",
       "      <td>154.47</td>\n",
       "      <td>0.18</td>\n",
       "      <td>843</td>\n",
       "      <td>0.8</td>\n",
       "      <td>256</td>\n",
       "      <td>4.3</td>\n",
       "    </tr>\n",
       "    <tr>\n",
       "      <th>3</th>\n",
       "      <td>2020</td>\n",
       "      <td>1</td>\n",
       "      <td>1</td>\n",
       "      <td>1</td>\n",
       "      <td>30</td>\n",
       "      <td>0.6</td>\n",
       "      <td>0</td>\n",
       "      <td>0</td>\n",
       "      <td>0</td>\n",
       "      <td>9</td>\n",
       "      <td>...</td>\n",
       "      <td>0</td>\n",
       "      <td>0</td>\n",
       "      <td>0</td>\n",
       "      <td>77.64</td>\n",
       "      <td>152.59</td>\n",
       "      <td>0.18</td>\n",
       "      <td>843</td>\n",
       "      <td>0.8</td>\n",
       "      <td>255</td>\n",
       "      <td>4.2</td>\n",
       "    </tr>\n",
       "    <tr>\n",
       "      <th>4</th>\n",
       "      <td>2020</td>\n",
       "      <td>1</td>\n",
       "      <td>1</td>\n",
       "      <td>2</td>\n",
       "      <td>0</td>\n",
       "      <td>0.5</td>\n",
       "      <td>0</td>\n",
       "      <td>0</td>\n",
       "      <td>0</td>\n",
       "      <td>6</td>\n",
       "      <td>...</td>\n",
       "      <td>0</td>\n",
       "      <td>0</td>\n",
       "      <td>0</td>\n",
       "      <td>77.97</td>\n",
       "      <td>149.65</td>\n",
       "      <td>0.18</td>\n",
       "      <td>843</td>\n",
       "      <td>0.9</td>\n",
       "      <td>255</td>\n",
       "      <td>4.0</td>\n",
       "    </tr>\n",
       "  </tbody>\n",
       "</table>\n",
       "<p>5 rows × 22 columns</p>\n",
       "</div>"
      ],
      "text/plain": [
       "   Year  Month  Day  Hour  Minute  Temperature  Clearsky DHI  Clearsky DNI  \\\n",
       "0  2020      1    1     0       0          1.2             0             0   \n",
       "1  2020      1    1     0      30          0.9             0             0   \n",
       "2  2020      1    1     1       0          0.7             0             0   \n",
       "3  2020      1    1     1      30          0.6             0             0   \n",
       "4  2020      1    1     2       0          0.5             0             0   \n",
       "\n",
       "   Clearsky GHI  Cloud Type  ...  DNI  Fill Flag  GHI  Relative Humidity  \\\n",
       "0             0           9  ...    0          0    0              75.48   \n",
       "1             0           9  ...    0          0    0              77.03   \n",
       "2             0           9  ...    0          0    0              77.08   \n",
       "3             0           9  ...    0          0    0              77.64   \n",
       "4             0           6  ...    0          0    0              77.97   \n",
       "\n",
       "   Solar Zenith Angle  Surface Albedo  Pressure  Precipitable Water  \\\n",
       "0              154.18            0.18       844                 0.8   \n",
       "1              155.03            0.18       843                 0.8   \n",
       "2              154.47            0.18       843                 0.8   \n",
       "3              152.59            0.18       843                 0.8   \n",
       "4              149.65            0.18       843                 0.9   \n",
       "\n",
       "   Wind Direction  Wind Speed  \n",
       "0             256         4.7  \n",
       "1             256         4.5  \n",
       "2             256         4.3  \n",
       "3             255         4.2  \n",
       "4             255         4.0  \n",
       "\n",
       "[5 rows x 22 columns]"
      ]
     },
     "execution_count": 70,
     "metadata": {},
     "output_type": "execute_result"
    }
   ],
   "source": [
    "df.head()"
   ]
  },
  {
   "cell_type": "code",
   "execution_count": 71,
   "id": "174e0bca",
   "metadata": {},
   "outputs": [
    {
     "data": {
      "text/html": [
       "<div>\n",
       "<style scoped>\n",
       "    .dataframe tbody tr th:only-of-type {\n",
       "        vertical-align: middle;\n",
       "    }\n",
       "\n",
       "    .dataframe tbody tr th {\n",
       "        vertical-align: top;\n",
       "    }\n",
       "\n",
       "    .dataframe thead th {\n",
       "        text-align: right;\n",
       "    }\n",
       "</style>\n",
       "<table border=\"1\" class=\"dataframe\">\n",
       "  <thead>\n",
       "    <tr style=\"text-align: right;\">\n",
       "      <th></th>\n",
       "      <th>Year</th>\n",
       "      <th>Month</th>\n",
       "      <th>Day</th>\n",
       "      <th>Hour</th>\n",
       "      <th>Minute</th>\n",
       "      <th>Temperature</th>\n",
       "      <th>Clearsky DHI</th>\n",
       "      <th>Clearsky DNI</th>\n",
       "      <th>Clearsky GHI</th>\n",
       "      <th>Cloud Type</th>\n",
       "      <th>...</th>\n",
       "      <th>DNI</th>\n",
       "      <th>Fill Flag</th>\n",
       "      <th>GHI</th>\n",
       "      <th>Relative Humidity</th>\n",
       "      <th>Solar Zenith Angle</th>\n",
       "      <th>Surface Albedo</th>\n",
       "      <th>Pressure</th>\n",
       "      <th>Precipitable Water</th>\n",
       "      <th>Wind Direction</th>\n",
       "      <th>Wind Speed</th>\n",
       "    </tr>\n",
       "  </thead>\n",
       "  <tbody>\n",
       "    <tr>\n",
       "      <th>477</th>\n",
       "      <td>2020</td>\n",
       "      <td>1</td>\n",
       "      <td>10</td>\n",
       "      <td>22</td>\n",
       "      <td>30</td>\n",
       "      <td>-5.9</td>\n",
       "      <td>0</td>\n",
       "      <td>0</td>\n",
       "      <td>0</td>\n",
       "      <td>7</td>\n",
       "      <td>...</td>\n",
       "      <td>0</td>\n",
       "      <td>0</td>\n",
       "      <td>0</td>\n",
       "      <td>82.95</td>\n",
       "      <td>143.53</td>\n",
       "      <td>0.87</td>\n",
       "      <td>849</td>\n",
       "      <td>0.6</td>\n",
       "      <td>240</td>\n",
       "      <td>1.9</td>\n",
       "    </tr>\n",
       "    <tr>\n",
       "      <th>7673</th>\n",
       "      <td>2020</td>\n",
       "      <td>6</td>\n",
       "      <td>9</td>\n",
       "      <td>20</td>\n",
       "      <td>30</td>\n",
       "      <td>7.2</td>\n",
       "      <td>2</td>\n",
       "      <td>24</td>\n",
       "      <td>2</td>\n",
       "      <td>0</td>\n",
       "      <td>...</td>\n",
       "      <td>24</td>\n",
       "      <td>0</td>\n",
       "      <td>2</td>\n",
       "      <td>77.05</td>\n",
       "      <td>91.05</td>\n",
       "      <td>0.17</td>\n",
       "      <td>866</td>\n",
       "      <td>1.4</td>\n",
       "      <td>263</td>\n",
       "      <td>1.9</td>\n",
       "    </tr>\n",
       "    <tr>\n",
       "      <th>5986</th>\n",
       "      <td>2020</td>\n",
       "      <td>5</td>\n",
       "      <td>5</td>\n",
       "      <td>17</td>\n",
       "      <td>0</td>\n",
       "      <td>15.4</td>\n",
       "      <td>71</td>\n",
       "      <td>826</td>\n",
       "      <td>442</td>\n",
       "      <td>0</td>\n",
       "      <td>...</td>\n",
       "      <td>757</td>\n",
       "      <td>4</td>\n",
       "      <td>422</td>\n",
       "      <td>30.80</td>\n",
       "      <td>63.30</td>\n",
       "      <td>0.17</td>\n",
       "      <td>869</td>\n",
       "      <td>1.0</td>\n",
       "      <td>109</td>\n",
       "      <td>1.6</td>\n",
       "    </tr>\n",
       "    <tr>\n",
       "      <th>8324</th>\n",
       "      <td>2020</td>\n",
       "      <td>6</td>\n",
       "      <td>23</td>\n",
       "      <td>10</td>\n",
       "      <td>0</td>\n",
       "      <td>24.7</td>\n",
       "      <td>69</td>\n",
       "      <td>938</td>\n",
       "      <td>799</td>\n",
       "      <td>0</td>\n",
       "      <td>...</td>\n",
       "      <td>938</td>\n",
       "      <td>0</td>\n",
       "      <td>799</td>\n",
       "      <td>42.20</td>\n",
       "      <td>38.86</td>\n",
       "      <td>0.17</td>\n",
       "      <td>867</td>\n",
       "      <td>2.3</td>\n",
       "      <td>287</td>\n",
       "      <td>1.3</td>\n",
       "    </tr>\n",
       "    <tr>\n",
       "      <th>15310</th>\n",
       "      <td>2020</td>\n",
       "      <td>11</td>\n",
       "      <td>15</td>\n",
       "      <td>23</td>\n",
       "      <td>0</td>\n",
       "      <td>-1.0</td>\n",
       "      <td>0</td>\n",
       "      <td>0</td>\n",
       "      <td>0</td>\n",
       "      <td>4</td>\n",
       "      <td>...</td>\n",
       "      <td>0</td>\n",
       "      <td>0</td>\n",
       "      <td>0</td>\n",
       "      <td>88.90</td>\n",
       "      <td>147.14</td>\n",
       "      <td>0.87</td>\n",
       "      <td>862</td>\n",
       "      <td>0.5</td>\n",
       "      <td>260</td>\n",
       "      <td>2.5</td>\n",
       "    </tr>\n",
       "    <tr>\n",
       "      <th>3617</th>\n",
       "      <td>2020</td>\n",
       "      <td>3</td>\n",
       "      <td>17</td>\n",
       "      <td>8</td>\n",
       "      <td>30</td>\n",
       "      <td>-1.1</td>\n",
       "      <td>64</td>\n",
       "      <td>823</td>\n",
       "      <td>312</td>\n",
       "      <td>0</td>\n",
       "      <td>...</td>\n",
       "      <td>823</td>\n",
       "      <td>0</td>\n",
       "      <td>312</td>\n",
       "      <td>65.33</td>\n",
       "      <td>72.45</td>\n",
       "      <td>0.87</td>\n",
       "      <td>856</td>\n",
       "      <td>0.2</td>\n",
       "      <td>281</td>\n",
       "      <td>2.7</td>\n",
       "    </tr>\n",
       "    <tr>\n",
       "      <th>716</th>\n",
       "      <td>2020</td>\n",
       "      <td>1</td>\n",
       "      <td>15</td>\n",
       "      <td>22</td>\n",
       "      <td>0</td>\n",
       "      <td>-18.7</td>\n",
       "      <td>0</td>\n",
       "      <td>0</td>\n",
       "      <td>0</td>\n",
       "      <td>6</td>\n",
       "      <td>...</td>\n",
       "      <td>0</td>\n",
       "      <td>0</td>\n",
       "      <td>0</td>\n",
       "      <td>74.44</td>\n",
       "      <td>138.26</td>\n",
       "      <td>0.87</td>\n",
       "      <td>861</td>\n",
       "      <td>0.4</td>\n",
       "      <td>35</td>\n",
       "      <td>0.9</td>\n",
       "    </tr>\n",
       "    <tr>\n",
       "      <th>3703</th>\n",
       "      <td>2020</td>\n",
       "      <td>3</td>\n",
       "      <td>19</td>\n",
       "      <td>3</td>\n",
       "      <td>30</td>\n",
       "      <td>-8.9</td>\n",
       "      <td>0</td>\n",
       "      <td>0</td>\n",
       "      <td>0</td>\n",
       "      <td>4</td>\n",
       "      <td>...</td>\n",
       "      <td>0</td>\n",
       "      <td>0</td>\n",
       "      <td>0</td>\n",
       "      <td>91.09</td>\n",
       "      <td>119.49</td>\n",
       "      <td>0.87</td>\n",
       "      <td>863</td>\n",
       "      <td>0.5</td>\n",
       "      <td>82</td>\n",
       "      <td>1.2</td>\n",
       "    </tr>\n",
       "    <tr>\n",
       "      <th>8930</th>\n",
       "      <td>2020</td>\n",
       "      <td>7</td>\n",
       "      <td>6</td>\n",
       "      <td>1</td>\n",
       "      <td>0</td>\n",
       "      <td>11.0</td>\n",
       "      <td>0</td>\n",
       "      <td>0</td>\n",
       "      <td>0</td>\n",
       "      <td>0</td>\n",
       "      <td>...</td>\n",
       "      <td>0</td>\n",
       "      <td>0</td>\n",
       "      <td>0</td>\n",
       "      <td>72.96</td>\n",
       "      <td>109.15</td>\n",
       "      <td>0.19</td>\n",
       "      <td>866</td>\n",
       "      <td>1.6</td>\n",
       "      <td>114</td>\n",
       "      <td>0.6</td>\n",
       "    </tr>\n",
       "    <tr>\n",
       "      <th>2440</th>\n",
       "      <td>2020</td>\n",
       "      <td>2</td>\n",
       "      <td>20</td>\n",
       "      <td>20</td>\n",
       "      <td>0</td>\n",
       "      <td>-4.4</td>\n",
       "      <td>0</td>\n",
       "      <td>0</td>\n",
       "      <td>0</td>\n",
       "      <td>4</td>\n",
       "      <td>...</td>\n",
       "      <td>0</td>\n",
       "      <td>0</td>\n",
       "      <td>0</td>\n",
       "      <td>68.64</td>\n",
       "      <td>110.73</td>\n",
       "      <td>0.87</td>\n",
       "      <td>866</td>\n",
       "      <td>0.1</td>\n",
       "      <td>255</td>\n",
       "      <td>4.0</td>\n",
       "    </tr>\n",
       "    <tr>\n",
       "      <th>12145</th>\n",
       "      <td>2020</td>\n",
       "      <td>9</td>\n",
       "      <td>11</td>\n",
       "      <td>0</td>\n",
       "      <td>30</td>\n",
       "      <td>9.7</td>\n",
       "      <td>0</td>\n",
       "      <td>0</td>\n",
       "      <td>0</td>\n",
       "      <td>0</td>\n",
       "      <td>...</td>\n",
       "      <td>0</td>\n",
       "      <td>0</td>\n",
       "      <td>0</td>\n",
       "      <td>56.96</td>\n",
       "      <td>127.65</td>\n",
       "      <td>0.21</td>\n",
       "      <td>865</td>\n",
       "      <td>0.8</td>\n",
       "      <td>274</td>\n",
       "      <td>1.2</td>\n",
       "    </tr>\n",
       "    <tr>\n",
       "      <th>9089</th>\n",
       "      <td>2020</td>\n",
       "      <td>7</td>\n",
       "      <td>9</td>\n",
       "      <td>8</td>\n",
       "      <td>30</td>\n",
       "      <td>17.1</td>\n",
       "      <td>74</td>\n",
       "      <td>881</td>\n",
       "      <td>584</td>\n",
       "      <td>0</td>\n",
       "      <td>...</td>\n",
       "      <td>881</td>\n",
       "      <td>0</td>\n",
       "      <td>584</td>\n",
       "      <td>47.62</td>\n",
       "      <td>54.64</td>\n",
       "      <td>0.19</td>\n",
       "      <td>864</td>\n",
       "      <td>1.1</td>\n",
       "      <td>164</td>\n",
       "      <td>1.1</td>\n",
       "    </tr>\n",
       "    <tr>\n",
       "      <th>10779</th>\n",
       "      <td>2020</td>\n",
       "      <td>8</td>\n",
       "      <td>13</td>\n",
       "      <td>13</td>\n",
       "      <td>30</td>\n",
       "      <td>16.3</td>\n",
       "      <td>100</td>\n",
       "      <td>940</td>\n",
       "      <td>865</td>\n",
       "      <td>6</td>\n",
       "      <td>...</td>\n",
       "      <td>166</td>\n",
       "      <td>0</td>\n",
       "      <td>544</td>\n",
       "      <td>29.86</td>\n",
       "      <td>35.56</td>\n",
       "      <td>0.22</td>\n",
       "      <td>865</td>\n",
       "      <td>1.1</td>\n",
       "      <td>266</td>\n",
       "      <td>1.6</td>\n",
       "    </tr>\n",
       "    <tr>\n",
       "      <th>11141</th>\n",
       "      <td>2020</td>\n",
       "      <td>8</td>\n",
       "      <td>21</td>\n",
       "      <td>2</td>\n",
       "      <td>30</td>\n",
       "      <td>12.2</td>\n",
       "      <td>0</td>\n",
       "      <td>0</td>\n",
       "      <td>0</td>\n",
       "      <td>0</td>\n",
       "      <td>...</td>\n",
       "      <td>0</td>\n",
       "      <td>0</td>\n",
       "      <td>0</td>\n",
       "      <td>70.01</td>\n",
       "      <td>114.72</td>\n",
       "      <td>0.22</td>\n",
       "      <td>862</td>\n",
       "      <td>1.6</td>\n",
       "      <td>256</td>\n",
       "      <td>1.1</td>\n",
       "    </tr>\n",
       "    <tr>\n",
       "      <th>3960</th>\n",
       "      <td>2020</td>\n",
       "      <td>3</td>\n",
       "      <td>24</td>\n",
       "      <td>12</td>\n",
       "      <td>0</td>\n",
       "      <td>2.7</td>\n",
       "      <td>115</td>\n",
       "      <td>967</td>\n",
       "      <td>777</td>\n",
       "      <td>4</td>\n",
       "      <td>...</td>\n",
       "      <td>831</td>\n",
       "      <td>29</td>\n",
       "      <td>714</td>\n",
       "      <td>52.19</td>\n",
       "      <td>46.81</td>\n",
       "      <td>0.87</td>\n",
       "      <td>857</td>\n",
       "      <td>0.6</td>\n",
       "      <td>272</td>\n",
       "      <td>1.5</td>\n",
       "    </tr>\n",
       "  </tbody>\n",
       "</table>\n",
       "<p>15 rows × 22 columns</p>\n",
       "</div>"
      ],
      "text/plain": [
       "       Year  Month  Day  Hour  Minute  Temperature  Clearsky DHI  \\\n",
       "477    2020      1   10    22      30         -5.9             0   \n",
       "7673   2020      6    9    20      30          7.2             2   \n",
       "5986   2020      5    5    17       0         15.4            71   \n",
       "8324   2020      6   23    10       0         24.7            69   \n",
       "15310  2020     11   15    23       0         -1.0             0   \n",
       "3617   2020      3   17     8      30         -1.1            64   \n",
       "716    2020      1   15    22       0        -18.7             0   \n",
       "3703   2020      3   19     3      30         -8.9             0   \n",
       "8930   2020      7    6     1       0         11.0             0   \n",
       "2440   2020      2   20    20       0         -4.4             0   \n",
       "12145  2020      9   11     0      30          9.7             0   \n",
       "9089   2020      7    9     8      30         17.1            74   \n",
       "10779  2020      8   13    13      30         16.3           100   \n",
       "11141  2020      8   21     2      30         12.2             0   \n",
       "3960   2020      3   24    12       0          2.7           115   \n",
       "\n",
       "       Clearsky DNI  Clearsky GHI  Cloud Type  ...  DNI  Fill Flag  GHI  \\\n",
       "477               0             0           7  ...    0          0    0   \n",
       "7673             24             2           0  ...   24          0    2   \n",
       "5986            826           442           0  ...  757          4  422   \n",
       "8324            938           799           0  ...  938          0  799   \n",
       "15310             0             0           4  ...    0          0    0   \n",
       "3617            823           312           0  ...  823          0  312   \n",
       "716               0             0           6  ...    0          0    0   \n",
       "3703              0             0           4  ...    0          0    0   \n",
       "8930              0             0           0  ...    0          0    0   \n",
       "2440              0             0           4  ...    0          0    0   \n",
       "12145             0             0           0  ...    0          0    0   \n",
       "9089            881           584           0  ...  881          0  584   \n",
       "10779           940           865           6  ...  166          0  544   \n",
       "11141             0             0           0  ...    0          0    0   \n",
       "3960            967           777           4  ...  831         29  714   \n",
       "\n",
       "       Relative Humidity  Solar Zenith Angle  Surface Albedo  Pressure  \\\n",
       "477                82.95              143.53            0.87       849   \n",
       "7673               77.05               91.05            0.17       866   \n",
       "5986               30.80               63.30            0.17       869   \n",
       "8324               42.20               38.86            0.17       867   \n",
       "15310              88.90              147.14            0.87       862   \n",
       "3617               65.33               72.45            0.87       856   \n",
       "716                74.44              138.26            0.87       861   \n",
       "3703               91.09              119.49            0.87       863   \n",
       "8930               72.96              109.15            0.19       866   \n",
       "2440               68.64              110.73            0.87       866   \n",
       "12145              56.96              127.65            0.21       865   \n",
       "9089               47.62               54.64            0.19       864   \n",
       "10779              29.86               35.56            0.22       865   \n",
       "11141              70.01              114.72            0.22       862   \n",
       "3960               52.19               46.81            0.87       857   \n",
       "\n",
       "       Precipitable Water  Wind Direction  Wind Speed  \n",
       "477                   0.6             240         1.9  \n",
       "7673                  1.4             263         1.9  \n",
       "5986                  1.0             109         1.6  \n",
       "8324                  2.3             287         1.3  \n",
       "15310                 0.5             260         2.5  \n",
       "3617                  0.2             281         2.7  \n",
       "716                   0.4              35         0.9  \n",
       "3703                  0.5              82         1.2  \n",
       "8930                  1.6             114         0.6  \n",
       "2440                  0.1             255         4.0  \n",
       "12145                 0.8             274         1.2  \n",
       "9089                  1.1             164         1.1  \n",
       "10779                 1.1             266         1.6  \n",
       "11141                 1.6             256         1.1  \n",
       "3960                  0.6             272         1.5  \n",
       "\n",
       "[15 rows x 22 columns]"
      ]
     },
     "execution_count": 71,
     "metadata": {},
     "output_type": "execute_result"
    }
   ],
   "source": [
    "df.sample(n=15)"
   ]
  },
  {
   "cell_type": "code",
   "execution_count": 72,
   "id": "f8572f70",
   "metadata": {},
   "outputs": [
    {
     "name": "stdout",
     "output_type": "stream",
     "text": [
      "Index(['Year', 'Month', 'Day', 'Hour', 'Minute', 'Temperature', 'Clearsky DHI',\n",
      "       'Clearsky DNI', 'Clearsky GHI', 'Cloud Type', 'Dew Point', 'DHI', 'DNI',\n",
      "       'Fill Flag', 'GHI', 'Relative Humidity', 'Solar Zenith Angle',\n",
      "       'Surface Albedo', 'Pressure', 'Precipitable Water', 'Wind Direction',\n",
      "       'Wind Speed'],\n",
      "      dtype='object')\n"
     ]
    }
   ],
   "source": [
    "print(df.columns)"
   ]
  },
  {
   "cell_type": "code",
   "execution_count": 73,
   "id": "c27d3a7d",
   "metadata": {},
   "outputs": [
    {
     "name": "stdout",
     "output_type": "stream",
     "text": [
      "17520\n"
     ]
    }
   ],
   "source": [
    "print(len(df))"
   ]
  },
  {
   "cell_type": "markdown",
   "id": "5f26db3f",
   "metadata": {},
   "source": [
    "# Data Collection Methodology\n",
    "1. For each location (lat & lon pair), we have data for each month's each day's each half an hour -> `17,520` data points for each location\n",
    "2. There are `3268` total locations (lat & lon pairs)\n",
    "3. Therefore, the total amount of data available to us is `57,255,360`\n",
    "\n",
    "Given the restricted computational resources and time, it isn't feasible to train a model on 57 million data points. \\\n",
    "As a result, before we carry out EDA and model building, we will limit the data we collect at in order to maximise our insight while minimsing our data congestion."
   ]
  },
  {
   "cell_type": "markdown",
   "id": "3a8ea0e1",
   "metadata": {},
   "source": [
    "## Limiting Timespan\n",
    "An important consideration while limiting timespan is our need to have high temporal resolution. As a result, we can't simply aggregate information for each month/week even though it reduces the data 1000-fold; instead, we want to understand the changes in hourly-trends."
   ]
  },
  {
   "cell_type": "markdown",
   "id": "f9601ed6",
   "metadata": {},
   "source": [
    "### Approach 1\n",
    "We can randomly sample data points for each location. Given the vast number of locations, a random sample (of let's say 100 data points) on all of them should cover all conditions.\\\n",
    "However, this involves loading all data points into memory at least once—saving only 100 of them into a csv."
   ]
  },
  {
   "cell_type": "markdown",
   "id": "e99b79a1",
   "metadata": {},
   "source": [
    "### Approach 2\n",
    "We can look into and plot the data for various hours/days/months/seasons in hopes of spotting a trend/pattern"
   ]
  },
  {
   "cell_type": "markdown",
   "id": "cd3aeb62",
   "metadata": {},
   "source": [
    "## Limiting Locations"
   ]
  },
  {
   "cell_type": "markdown",
   "id": "7dcfb2cd",
   "metadata": {},
   "source": [
    "# Data Transformation"
   ]
  },
  {
   "cell_type": "code",
   "execution_count": 74,
   "id": "3f8cd1ab",
   "metadata": {},
   "outputs": [
    {
     "data": {
      "text/plain": [
       "Index(['Year', 'Month', 'Day', 'Hour', 'Minute', 'Temperature', 'Clearsky DHI',\n",
       "       'Clearsky DNI', 'Clearsky GHI', 'Cloud Type', 'Dew Point', 'DHI', 'DNI',\n",
       "       'Fill Flag', 'GHI', 'Relative Humidity', 'Solar Zenith Angle',\n",
       "       'Surface Albedo', 'Pressure', 'Precipitable Water', 'Wind Direction',\n",
       "       'Wind Speed'],\n",
       "      dtype='object')"
      ]
     },
     "execution_count": 74,
     "metadata": {},
     "output_type": "execute_result"
    }
   ],
   "source": [
    "df.columns"
   ]
  },
  {
   "cell_type": "code",
   "execution_count": 75,
   "id": "3eb5670b",
   "metadata": {},
   "outputs": [
    {
     "data": {
      "text/plain": [
       "Year                    int64\n",
       "Month                   int64\n",
       "Day                     int64\n",
       "Hour                    int64\n",
       "Minute                  int64\n",
       "Temperature           float64\n",
       "Clearsky DHI            int64\n",
       "Clearsky DNI            int64\n",
       "Clearsky GHI            int64\n",
       "Cloud Type              int64\n",
       "Dew Point             float64\n",
       "DHI                     int64\n",
       "DNI                     int64\n",
       "Fill Flag               int64\n",
       "GHI                     int64\n",
       "Relative Humidity     float64\n",
       "Solar Zenith Angle    float64\n",
       "Surface Albedo        float64\n",
       "Pressure                int64\n",
       "Precipitable Water    float64\n",
       "Wind Direction          int64\n",
       "Wind Speed            float64\n",
       "dtype: object"
      ]
     },
     "execution_count": 75,
     "metadata": {},
     "output_type": "execute_result"
    }
   ],
   "source": [
    "df.dtypes"
   ]
  },
  {
   "cell_type": "markdown",
   "id": "a5684fe5",
   "metadata": {},
   "source": [
    "Logically, the minute column is only relevant when combined with the hour—that is, we know the time in a unified format. For this purpose, we decided to calculate time in terms of minutes; however, we could've also taken the 24-hour approach"
   ]
  },
  {
   "cell_type": "code",
   "execution_count": 76,
   "id": "d9a591db",
   "metadata": {},
   "outputs": [
    {
     "data": {
      "text/plain": [
       "0           0\n",
       "1          30\n",
       "2          60\n",
       "3          90\n",
       "4         120\n",
       "         ... \n",
       "17515    1290\n",
       "17516    1320\n",
       "17517    1350\n",
       "17518    1380\n",
       "17519    1410\n",
       "Name: Time, Length: 17520, dtype: int64"
      ]
     },
     "execution_count": 76,
     "metadata": {},
     "output_type": "execute_result"
    }
   ],
   "source": [
    "df['Time'] = df['Hour']*60 + df['Minute']\n",
    "df['Time']"
   ]
  },
  {
   "cell_type": "code",
   "execution_count": 77,
   "id": "57204a38",
   "metadata": {},
   "outputs": [],
   "source": [
    "df_controlled = df.filter(['Year','Month','Day','Hour', 'Minute', 'Temperature', 'Cloud Type', 'Relative Humidity', 'Pressure', 'Precipitable Water', 'Time'], axis=1)\n"
   ]
  },
  {
   "cell_type": "markdown",
   "id": "424b798b",
   "metadata": {},
   "source": [
    "Moreover, we also need to combine the day and month columns to achive a useful metric; we do so by creating a week column"
   ]
  },
  {
   "cell_type": "code",
   "execution_count": 78,
   "id": "6dc98eaa",
   "metadata": {},
   "outputs": [],
   "source": [
    "def weekCalculator(month, day):\n",
    "    month_to_days = {}\n",
    "    month_to_days[1] = 0\n",
    "    month_to_days[2] = 31\n",
    "    month_to_days[3] = 28\n",
    "    month_to_days[4] = 31\n",
    "    month_to_days[5] = 30\n",
    "    month_to_days[6] = 31\n",
    "    month_to_days[7] = 30\n",
    "    month_to_days[8] = 31\n",
    "    month_to_days[9] = 31\n",
    "    month_to_days[10] = 30\n",
    "    month_to_days[11] = 31\n",
    "    month_to_days[12] = 30\n",
    "    \n",
    "    total_days = 0\n",
    "    for i in range(1, month+1):\n",
    "        total_days = total_days + month_to_days[i]\n",
    "    total_days = total_days + day\n",
    "    week_number = int(total_days/7) + 1\n",
    "    return week_number"
   ]
  },
  {
   "cell_type": "code",
   "execution_count": 79,
   "id": "c19fc61f",
   "metadata": {},
   "outputs": [],
   "source": [
    "def dayCalculator(month, day):\n",
    "    month_to_days = {}\n",
    "    month_to_days[1] = 0\n",
    "    month_to_days[2] = 31\n",
    "    month_to_days[3] = 28\n",
    "    month_to_days[4] = 31\n",
    "    month_to_days[5] = 30\n",
    "    month_to_days[6] = 31\n",
    "    month_to_days[7] = 30\n",
    "    month_to_days[8] = 31\n",
    "    month_to_days[9] = 31\n",
    "    month_to_days[10] = 30\n",
    "    month_to_days[11] = 31\n",
    "    month_to_days[12] = 30\n",
    "    \n",
    "    total_days = 0\n",
    "    for i in range(1, month+1):\n",
    "        total_days = total_days + month_to_days[i]\n",
    "    total_days = total_days + day\n",
    "    return total_days"
   ]
  },
  {
   "cell_type": "code",
   "execution_count": 80,
   "id": "c5e683ed",
   "metadata": {
    "scrolled": true
   },
   "outputs": [
    {
     "data": {
      "text/plain": [
       "17520"
      ]
     },
     "execution_count": 80,
     "metadata": {},
     "output_type": "execute_result"
    }
   ],
   "source": [
    "df_controlled['Day Number'] = df_controlled.apply(lambda df_controlled : dayCalculator(int(df_controlled['Month']), int(df_controlled['Day'])), axis = 1)\n",
    "df_controlled['Week'] = df_controlled.apply(lambda df_controlled : weekCalculator(int(df_controlled['Month']), int(df_controlled['Day'])), axis = 1)\n",
    "df_controlled.sample(n=10)\n",
    "len(df_controlled)"
   ]
  },
  {
   "cell_type": "markdown",
   "id": "0eda9d0e",
   "metadata": {},
   "source": [
    "To make it easier to classify time, we divide it into 4 parts -> Morning, Afternoon, Evening, and Night"
   ]
  },
  {
   "cell_type": "code",
   "execution_count": 81,
   "id": "2d66a922",
   "metadata": {},
   "outputs": [],
   "source": [
    "import math"
   ]
  },
  {
   "cell_type": "code",
   "execution_count": 82,
   "id": "debda386",
   "metadata": {},
   "outputs": [],
   "source": [
    "def sh(rh, temp, p):\n",
    "    # pressure in millibar\n",
    "    # temp in C\n",
    "    # rh in percent\n",
    "    # precipitable water in millimeter (mm)\n",
    "    p_Pa = p*100 # in Pa\n",
    "    exponent_factor = math.exp(17.625/(temp+243.08))\n",
    "    sh_val = (rh*3800*exponent_factor)/p_Pa\n",
    "    return sh_val"
   ]
  },
  {
   "cell_type": "code",
   "execution_count": 83,
   "id": "f6e138c6",
   "metadata": {},
   "outputs": [],
   "source": [
    "df['Specific Humidity'] = df.apply(lambda df : sh(float(df['Relative Humidity']), float(df['Temperature']), float(df['Pressure'])), axis = 1)"
   ]
  },
  {
   "cell_type": "code",
   "execution_count": 84,
   "id": "426cbfd9",
   "metadata": {},
   "outputs": [
    {
     "data": {
      "text/plain": [
       "0        3.652647\n",
       "1        3.732408\n",
       "2        3.735052\n",
       "3        3.762300\n",
       "4        3.778403\n",
       "           ...   \n",
       "17515    3.635436\n",
       "17516    3.632108\n",
       "17517    3.658346\n",
       "17518    3.647700\n",
       "17519    3.673940\n",
       "Name: Specific Humidity, Length: 17520, dtype: float64"
      ]
     },
     "execution_count": 84,
     "metadata": {},
     "output_type": "execute_result"
    }
   ],
   "source": [
    "df['Specific Humidity']"
   ]
  },
  {
   "cell_type": "code",
   "execution_count": 88,
   "id": "e8ae2643",
   "metadata": {},
   "outputs": [
    {
     "data": {
      "text/plain": [
       "Text(0, 0.5, 'Precipitable Water')"
      ]
     },
     "execution_count": 88,
     "metadata": {},
     "output_type": "execute_result"
    },
    {
     "data": {
      "image/png": "[encoded data removed]",
      "text/plain": [
       "<Figure size 432x288 with 1 Axes>"
      ]
     },
     "metadata": {
      "needs_background": "light"
     },
     "output_type": "display_data"
    }
   ],
   "source": [
    "plt.scatter(df['Specific Humidity'], df['Precipitable Water'],color='pink') \n",
    "plt.xlabel(\"Specific Humidity\")\n",
    "plt.ylabel(\"Precipitable Water\")"
   ]
  },
  {
   "cell_type": "code",
   "execution_count": 22,
   "id": "4ee2357a",
   "metadata": {},
   "outputs": [
    {
     "name": "stderr",
     "output_type": "stream",
     "text": [
      "/var/folders/s4/kwh94x893cx7r1phpl_k4fk80000gn/T/ipykernel_59315/3731838970.py:3: SettingWithCopyWarning: \n",
      "A value is trying to be set on a copy of a slice from a DataFrame.\n",
      "Try using .loc[row_indexer,col_indexer] = value instead\n",
      "\n",
      "See the caveats in the documentation: https://pandas.pydata.org/pandas-docs/stable/user_guide/indexing.html#returning-a-view-versus-a-copy\n",
      "  df_morning['Day Part'] = 'Morning'\n"
     ]
    }
   ],
   "source": [
    "morning = (df_controlled['Time'] >= 300) & (df_controlled['Time'] < 720) #use variable with condition\n",
    "df_morning = df_controlled.loc[morning] # data between dates\n",
    "df_morning['Day Part'] = 'Morning'\n",
    "# df_morning.head()"
   ]
  },
  {
   "cell_type": "code",
   "execution_count": 23,
   "id": "d0e57655",
   "metadata": {},
   "outputs": [
    {
     "name": "stderr",
     "output_type": "stream",
     "text": [
      "/var/folders/s4/kwh94x893cx7r1phpl_k4fk80000gn/T/ipykernel_59315/170895084.py:3: SettingWithCopyWarning: \n",
      "A value is trying to be set on a copy of a slice from a DataFrame.\n",
      "Try using .loc[row_indexer,col_indexer] = value instead\n",
      "\n",
      "See the caveats in the documentation: https://pandas.pydata.org/pandas-docs/stable/user_guide/indexing.html#returning-a-view-versus-a-copy\n",
      "  df_afternoon['Day Part'] = 'Afternoon'\n"
     ]
    }
   ],
   "source": [
    "afternoon = (df_controlled['Time'] >= 720) & (df_controlled['Time'] < 1020) #use variable with condition\n",
    "df_afternoon = df_controlled.loc[afternoon] # data between dates\n",
    "df_afternoon['Day Part'] = 'Afternoon'\n",
    "# df_afternoon.head()"
   ]
  },
  {
   "cell_type": "code",
   "execution_count": 24,
   "id": "90be0318",
   "metadata": {},
   "outputs": [
    {
     "name": "stderr",
     "output_type": "stream",
     "text": [
      "/var/folders/s4/kwh94x893cx7r1phpl_k4fk80000gn/T/ipykernel_59315/1616217406.py:3: SettingWithCopyWarning: \n",
      "A value is trying to be set on a copy of a slice from a DataFrame.\n",
      "Try using .loc[row_indexer,col_indexer] = value instead\n",
      "\n",
      "See the caveats in the documentation: https://pandas.pydata.org/pandas-docs/stable/user_guide/indexing.html#returning-a-view-versus-a-copy\n",
      "  df_evening['Day Part'] = 'Evening'\n"
     ]
    }
   ],
   "source": [
    "evening = (df_controlled['Time'] >= 1020) & (df_controlled['Time'] < 1260) #use variable with condition\n",
    "df_evening = df_controlled.loc[evening] # data between dates\n",
    "df_evening['Day Part'] = 'Evening'\n",
    "# df_evening.head()"
   ]
  },
  {
   "cell_type": "code",
   "execution_count": 25,
   "id": "8d67f2c8",
   "metadata": {},
   "outputs": [
    {
     "name": "stderr",
     "output_type": "stream",
     "text": [
      "/var/folders/s4/kwh94x893cx7r1phpl_k4fk80000gn/T/ipykernel_59315/3192208289.py:3: SettingWithCopyWarning: \n",
      "A value is trying to be set on a copy of a slice from a DataFrame.\n",
      "Try using .loc[row_indexer,col_indexer] = value instead\n",
      "\n",
      "See the caveats in the documentation: https://pandas.pydata.org/pandas-docs/stable/user_guide/indexing.html#returning-a-view-versus-a-copy\n",
      "  df_night['Day Part'] = 'Night'\n"
     ]
    }
   ],
   "source": [
    "night = (df_controlled['Time'] >= 1260) | (df_controlled['Time'] < 300) #use variable with condition\n",
    "df_night = df_controlled.loc[night] # data between dates\n",
    "df_night['Day Part'] = 'Night'\n",
    "# df_night.head()"
   ]
  },
  {
   "cell_type": "code",
   "execution_count": 26,
   "id": "98f5ab63",
   "metadata": {},
   "outputs": [],
   "source": [
    "df_controlled_dayPart = pd.concat([df_night, df_morning, df_afternoon, df_evening])"
   ]
  },
  {
   "cell_type": "code",
   "execution_count": 27,
   "id": "be89a8cd",
   "metadata": {},
   "outputs": [
    {
     "data": {
      "text/plain": [
       "17520"
      ]
     },
     "execution_count": 27,
     "metadata": {},
     "output_type": "execute_result"
    }
   ],
   "source": [
    "df_controlled_dayPart.sample(n=10)\n",
    "len(df_controlled_dayPart)"
   ]
  },
  {
   "cell_type": "markdown",
   "id": "08fcbc89",
   "metadata": {},
   "source": [
    "Including seasonal data"
   ]
  },
  {
   "cell_type": "code",
   "execution_count": 28,
   "id": "ad582a7d",
   "metadata": {},
   "outputs": [
    {
     "name": "stderr",
     "output_type": "stream",
     "text": [
      "/var/folders/s4/kwh94x893cx7r1phpl_k4fk80000gn/T/ipykernel_59315/575200486.py:3: SettingWithCopyWarning: \n",
      "A value is trying to be set on a copy of a slice from a DataFrame.\n",
      "Try using .loc[row_indexer,col_indexer] = value instead\n",
      "\n",
      "See the caveats in the documentation: https://pandas.pydata.org/pandas-docs/stable/user_guide/indexing.html#returning-a-view-versus-a-copy\n",
      "  df_spring['Season'] = 'Spring'\n"
     ]
    }
   ],
   "source": [
    "spring = (df_controlled_dayPart['Day Number'] >= 79) & (df_controlled_dayPart['Day Number'] < 171) #use variable with condition\n",
    "df_spring = df_controlled_dayPart.loc[spring] # data between dates\n",
    "df_spring['Season'] = 'Spring'"
   ]
  },
  {
   "cell_type": "code",
   "execution_count": 29,
   "id": "767f4212",
   "metadata": {},
   "outputs": [
    {
     "name": "stderr",
     "output_type": "stream",
     "text": [
      "/var/folders/s4/kwh94x893cx7r1phpl_k4fk80000gn/T/ipykernel_59315/2041048749.py:3: SettingWithCopyWarning: \n",
      "A value is trying to be set on a copy of a slice from a DataFrame.\n",
      "Try using .loc[row_indexer,col_indexer] = value instead\n",
      "\n",
      "See the caveats in the documentation: https://pandas.pydata.org/pandas-docs/stable/user_guide/indexing.html#returning-a-view-versus-a-copy\n",
      "  df_summer['Season'] = 'Summer'\n"
     ]
    }
   ],
   "source": [
    "summer = (df_controlled_dayPart['Day Number'] >= 171) & (df_controlled_dayPart['Day Number'] < 265) #use variable with condition\n",
    "df_summer = df_controlled_dayPart.loc[summer] # data between dates\n",
    "df_summer['Season'] = 'Summer'"
   ]
  },
  {
   "cell_type": "code",
   "execution_count": 30,
   "id": "c8832fba",
   "metadata": {},
   "outputs": [
    {
     "name": "stderr",
     "output_type": "stream",
     "text": [
      "/var/folders/s4/kwh94x893cx7r1phpl_k4fk80000gn/T/ipykernel_59315/2557255262.py:3: SettingWithCopyWarning: \n",
      "A value is trying to be set on a copy of a slice from a DataFrame.\n",
      "Try using .loc[row_indexer,col_indexer] = value instead\n",
      "\n",
      "See the caveats in the documentation: https://pandas.pydata.org/pandas-docs/stable/user_guide/indexing.html#returning-a-view-versus-a-copy\n",
      "  df_fall['Season'] = 'Fall'\n"
     ]
    }
   ],
   "source": [
    "fall = (df_controlled_dayPart['Day Number'] >= 265) & (df_controlled_dayPart['Day Number'] < 355) #use variable with condition\n",
    "df_fall = df_controlled_dayPart.loc[fall] # data between dates\n",
    "df_fall['Season'] = 'Fall'"
   ]
  },
  {
   "cell_type": "code",
   "execution_count": 31,
   "id": "59fd024d",
   "metadata": {},
   "outputs": [
    {
     "name": "stderr",
     "output_type": "stream",
     "text": [
      "/var/folders/s4/kwh94x893cx7r1phpl_k4fk80000gn/T/ipykernel_59315/188173600.py:3: SettingWithCopyWarning: \n",
      "A value is trying to be set on a copy of a slice from a DataFrame.\n",
      "Try using .loc[row_indexer,col_indexer] = value instead\n",
      "\n",
      "See the caveats in the documentation: https://pandas.pydata.org/pandas-docs/stable/user_guide/indexing.html#returning-a-view-versus-a-copy\n",
      "  df_winter['Season'] = 'Winter'\n"
     ]
    }
   ],
   "source": [
    "winter = (df_controlled_dayPart['Day Number'] >= 355) | (df_controlled_dayPart['Day Number'] < 79) #use variable with condition\n",
    "df_winter = df_controlled_dayPart.loc[winter] # data between dates\n",
    "df_winter['Season'] = 'Winter'"
   ]
  },
  {
   "cell_type": "code",
   "execution_count": 32,
   "id": "621bcaf8",
   "metadata": {},
   "outputs": [
    {
     "data": {
      "text/plain": [
       "17520"
      ]
     },
     "execution_count": 32,
     "metadata": {},
     "output_type": "execute_result"
    }
   ],
   "source": [
    "df_controlled_season = pd.concat([df_spring, df_summer, df_fall, df_winter])\n",
    "len(df_controlled_season)"
   ]
  },
  {
   "cell_type": "code",
   "execution_count": 33,
   "id": "80256634",
   "metadata": {},
   "outputs": [
    {
     "data": {
      "text/html": [
       "<div>\n",
       "<style scoped>\n",
       "    .dataframe tbody tr th:only-of-type {\n",
       "        vertical-align: middle;\n",
       "    }\n",
       "\n",
       "    .dataframe tbody tr th {\n",
       "        vertical-align: top;\n",
       "    }\n",
       "\n",
       "    .dataframe thead th {\n",
       "        text-align: right;\n",
       "    }\n",
       "</style>\n",
       "<table border=\"1\" class=\"dataframe\">\n",
       "  <thead>\n",
       "    <tr style=\"text-align: right;\">\n",
       "      <th></th>\n",
       "      <th>Year</th>\n",
       "      <th>Month</th>\n",
       "      <th>Day</th>\n",
       "      <th>Hour</th>\n",
       "      <th>Minute</th>\n",
       "      <th>Temperature</th>\n",
       "      <th>Cloud Type</th>\n",
       "      <th>Relative Humidity</th>\n",
       "      <th>Pressure</th>\n",
       "      <th>Precipitable Water</th>\n",
       "      <th>Time</th>\n",
       "      <th>Day Number</th>\n",
       "      <th>Week</th>\n",
       "      <th>Day Part</th>\n",
       "      <th>Season</th>\n",
       "    </tr>\n",
       "  </thead>\n",
       "  <tbody>\n",
       "    <tr>\n",
       "      <th>200</th>\n",
       "      <td>2020</td>\n",
       "      <td>1</td>\n",
       "      <td>5</td>\n",
       "      <td>4</td>\n",
       "      <td>0</td>\n",
       "      <td>6.5</td>\n",
       "      <td>4</td>\n",
       "      <td>94.45</td>\n",
       "      <td>1008</td>\n",
       "      <td>1.4</td>\n",
       "      <td>240</td>\n",
       "      <td>5</td>\n",
       "      <td>1</td>\n",
       "      <td>Night</td>\n",
       "      <td>Winter</td>\n",
       "    </tr>\n",
       "    <tr>\n",
       "      <th>7738</th>\n",
       "      <td>2020</td>\n",
       "      <td>6</td>\n",
       "      <td>11</td>\n",
       "      <td>5</td>\n",
       "      <td>0</td>\n",
       "      <td>11.1</td>\n",
       "      <td>7</td>\n",
       "      <td>95.08</td>\n",
       "      <td>1007</td>\n",
       "      <td>2.4</td>\n",
       "      <td>300</td>\n",
       "      <td>162</td>\n",
       "      <td>24</td>\n",
       "      <td>Morning</td>\n",
       "      <td>Spring</td>\n",
       "    </tr>\n",
       "    <tr>\n",
       "      <th>2575</th>\n",
       "      <td>2020</td>\n",
       "      <td>2</td>\n",
       "      <td>23</td>\n",
       "      <td>15</td>\n",
       "      <td>30</td>\n",
       "      <td>5.5</td>\n",
       "      <td>4</td>\n",
       "      <td>89.54</td>\n",
       "      <td>1006</td>\n",
       "      <td>1.1</td>\n",
       "      <td>930</td>\n",
       "      <td>54</td>\n",
       "      <td>8</td>\n",
       "      <td>Afternoon</td>\n",
       "      <td>Winter</td>\n",
       "    </tr>\n",
       "    <tr>\n",
       "      <th>10574</th>\n",
       "      <td>2020</td>\n",
       "      <td>8</td>\n",
       "      <td>9</td>\n",
       "      <td>7</td>\n",
       "      <td>0</td>\n",
       "      <td>15.1</td>\n",
       "      <td>0</td>\n",
       "      <td>83.84</td>\n",
       "      <td>1015</td>\n",
       "      <td>2.2</td>\n",
       "      <td>420</td>\n",
       "      <td>221</td>\n",
       "      <td>32</td>\n",
       "      <td>Morning</td>\n",
       "      <td>Summer</td>\n",
       "    </tr>\n",
       "    <tr>\n",
       "      <th>7868</th>\n",
       "      <td>2020</td>\n",
       "      <td>6</td>\n",
       "      <td>13</td>\n",
       "      <td>22</td>\n",
       "      <td>0</td>\n",
       "      <td>8.5</td>\n",
       "      <td>0</td>\n",
       "      <td>93.77</td>\n",
       "      <td>1004</td>\n",
       "      <td>1.5</td>\n",
       "      <td>1320</td>\n",
       "      <td>164</td>\n",
       "      <td>24</td>\n",
       "      <td>Night</td>\n",
       "      <td>Spring</td>\n",
       "    </tr>\n",
       "    <tr>\n",
       "      <th>1623</th>\n",
       "      <td>2020</td>\n",
       "      <td>2</td>\n",
       "      <td>3</td>\n",
       "      <td>19</td>\n",
       "      <td>30</td>\n",
       "      <td>2.0</td>\n",
       "      <td>8</td>\n",
       "      <td>58.10</td>\n",
       "      <td>1019</td>\n",
       "      <td>0.7</td>\n",
       "      <td>1170</td>\n",
       "      <td>34</td>\n",
       "      <td>5</td>\n",
       "      <td>Evening</td>\n",
       "      <td>Winter</td>\n",
       "    </tr>\n",
       "    <tr>\n",
       "      <th>14607</th>\n",
       "      <td>2020</td>\n",
       "      <td>11</td>\n",
       "      <td>1</td>\n",
       "      <td>7</td>\n",
       "      <td>30</td>\n",
       "      <td>8.9</td>\n",
       "      <td>0</td>\n",
       "      <td>70.67</td>\n",
       "      <td>1012</td>\n",
       "      <td>1.3</td>\n",
       "      <td>450</td>\n",
       "      <td>305</td>\n",
       "      <td>44</td>\n",
       "      <td>Morning</td>\n",
       "      <td>Fall</td>\n",
       "    </tr>\n",
       "    <tr>\n",
       "      <th>9448</th>\n",
       "      <td>2020</td>\n",
       "      <td>7</td>\n",
       "      <td>16</td>\n",
       "      <td>20</td>\n",
       "      <td>0</td>\n",
       "      <td>14.1</td>\n",
       "      <td>0</td>\n",
       "      <td>96.88</td>\n",
       "      <td>1007</td>\n",
       "      <td>2.3</td>\n",
       "      <td>1200</td>\n",
       "      <td>197</td>\n",
       "      <td>29</td>\n",
       "      <td>Evening</td>\n",
       "      <td>Summer</td>\n",
       "    </tr>\n",
       "    <tr>\n",
       "      <th>10128</th>\n",
       "      <td>2020</td>\n",
       "      <td>7</td>\n",
       "      <td>31</td>\n",
       "      <td>0</td>\n",
       "      <td>0</td>\n",
       "      <td>14.3</td>\n",
       "      <td>0</td>\n",
       "      <td>91.18</td>\n",
       "      <td>1004</td>\n",
       "      <td>3.0</td>\n",
       "      <td>0</td>\n",
       "      <td>212</td>\n",
       "      <td>31</td>\n",
       "      <td>Night</td>\n",
       "      <td>Summer</td>\n",
       "    </tr>\n",
       "    <tr>\n",
       "      <th>5486</th>\n",
       "      <td>2020</td>\n",
       "      <td>4</td>\n",
       "      <td>25</td>\n",
       "      <td>7</td>\n",
       "      <td>0</td>\n",
       "      <td>10.5</td>\n",
       "      <td>6</td>\n",
       "      <td>95.43</td>\n",
       "      <td>1000</td>\n",
       "      <td>1.8</td>\n",
       "      <td>420</td>\n",
       "      <td>115</td>\n",
       "      <td>17</td>\n",
       "      <td>Morning</td>\n",
       "      <td>Spring</td>\n",
       "    </tr>\n",
       "  </tbody>\n",
       "</table>\n",
       "</div>"
      ],
      "text/plain": [
       "       Year  Month  Day  Hour  Minute  Temperature  Cloud Type  \\\n",
       "200    2020      1    5     4       0          6.5           4   \n",
       "7738   2020      6   11     5       0         11.1           7   \n",
       "2575   2020      2   23    15      30          5.5           4   \n",
       "10574  2020      8    9     7       0         15.1           0   \n",
       "7868   2020      6   13    22       0          8.5           0   \n",
       "1623   2020      2    3    19      30          2.0           8   \n",
       "14607  2020     11    1     7      30          8.9           0   \n",
       "9448   2020      7   16    20       0         14.1           0   \n",
       "10128  2020      7   31     0       0         14.3           0   \n",
       "5486   2020      4   25     7       0         10.5           6   \n",
       "\n",
       "       Relative Humidity  Pressure  Precipitable Water  Time  Day Number  \\\n",
       "200                94.45      1008                 1.4   240           5   \n",
       "7738               95.08      1007                 2.4   300         162   \n",
       "2575               89.54      1006                 1.1   930          54   \n",
       "10574              83.84      1015                 2.2   420         221   \n",
       "7868               93.77      1004                 1.5  1320         164   \n",
       "1623               58.10      1019                 0.7  1170          34   \n",
       "14607              70.67      1012                 1.3   450         305   \n",
       "9448               96.88      1007                 2.3  1200         197   \n",
       "10128              91.18      1004                 3.0     0         212   \n",
       "5486               95.43      1000                 1.8   420         115   \n",
       "\n",
       "       Week   Day Part  Season  \n",
       "200       1      Night  Winter  \n",
       "7738     24    Morning  Spring  \n",
       "2575      8  Afternoon  Winter  \n",
       "10574    32    Morning  Summer  \n",
       "7868     24      Night  Spring  \n",
       "1623      5    Evening  Winter  \n",
       "14607    44    Morning    Fall  \n",
       "9448     29    Evening  Summer  \n",
       "10128    31      Night  Summer  \n",
       "5486     17    Morning  Spring  "
      ]
     },
     "execution_count": 33,
     "metadata": {},
     "output_type": "execute_result"
    }
   ],
   "source": [
    "df_controlled_unordered = df_controlled_season.copy()\n",
    "df_controlled_unordered.sample(n=10)"
   ]
  },
  {
   "cell_type": "code",
   "execution_count": 34,
   "id": "d5f186e2",
   "metadata": {},
   "outputs": [
    {
     "name": "stdout",
     "output_type": "stream",
     "text": [
      "17520\n"
     ]
    },
    {
     "data": {
      "text/html": [
       "<div>\n",
       "<style scoped>\n",
       "    .dataframe tbody tr th:only-of-type {\n",
       "        vertical-align: middle;\n",
       "    }\n",
       "\n",
       "    .dataframe tbody tr th {\n",
       "        vertical-align: top;\n",
       "    }\n",
       "\n",
       "    .dataframe thead th {\n",
       "        text-align: right;\n",
       "    }\n",
       "</style>\n",
       "<table border=\"1\" class=\"dataframe\">\n",
       "  <thead>\n",
       "    <tr style=\"text-align: right;\">\n",
       "      <th></th>\n",
       "      <th>Month</th>\n",
       "      <th>Temperature</th>\n",
       "      <th>Time</th>\n",
       "      <th>Cloud Type</th>\n",
       "      <th>Relative Humidity</th>\n",
       "      <th>Pressure</th>\n",
       "      <th>Precipitable Water</th>\n",
       "      <th>Week</th>\n",
       "      <th>Day Part</th>\n",
       "      <th>Season</th>\n",
       "    </tr>\n",
       "  </thead>\n",
       "  <tbody>\n",
       "    <tr>\n",
       "      <th>970</th>\n",
       "      <td>1</td>\n",
       "      <td>7.4</td>\n",
       "      <td>300</td>\n",
       "      <td>8</td>\n",
       "      <td>92.91</td>\n",
       "      <td>989</td>\n",
       "      <td>1.3</td>\n",
       "      <td>4</td>\n",
       "      <td>Morning</td>\n",
       "      <td>Winter</td>\n",
       "    </tr>\n",
       "    <tr>\n",
       "      <th>14422</th>\n",
       "      <td>10</td>\n",
       "      <td>12.5</td>\n",
       "      <td>660</td>\n",
       "      <td>6</td>\n",
       "      <td>96.21</td>\n",
       "      <td>1013</td>\n",
       "      <td>2.0</td>\n",
       "      <td>44</td>\n",
       "      <td>Morning</td>\n",
       "      <td>Fall</td>\n",
       "    </tr>\n",
       "    <tr>\n",
       "      <th>4336</th>\n",
       "      <td>4</td>\n",
       "      <td>5.4</td>\n",
       "      <td>480</td>\n",
       "      <td>0</td>\n",
       "      <td>88.92</td>\n",
       "      <td>1007</td>\n",
       "      <td>1.0</td>\n",
       "      <td>14</td>\n",
       "      <td>Morning</td>\n",
       "      <td>Spring</td>\n",
       "    </tr>\n",
       "    <tr>\n",
       "      <th>1381</th>\n",
       "      <td>1</td>\n",
       "      <td>5.6</td>\n",
       "      <td>1110</td>\n",
       "      <td>0</td>\n",
       "      <td>92.48</td>\n",
       "      <td>1011</td>\n",
       "      <td>0.7</td>\n",
       "      <td>5</td>\n",
       "      <td>Evening</td>\n",
       "      <td>Winter</td>\n",
       "    </tr>\n",
       "    <tr>\n",
       "      <th>1018</th>\n",
       "      <td>1</td>\n",
       "      <td>6.3</td>\n",
       "      <td>300</td>\n",
       "      <td>8</td>\n",
       "      <td>93.65</td>\n",
       "      <td>1002</td>\n",
       "      <td>1.3</td>\n",
       "      <td>4</td>\n",
       "      <td>Morning</td>\n",
       "      <td>Winter</td>\n",
       "    </tr>\n",
       "    <tr>\n",
       "      <th>11032</th>\n",
       "      <td>8</td>\n",
       "      <td>14.7</td>\n",
       "      <td>1200</td>\n",
       "      <td>7</td>\n",
       "      <td>98.31</td>\n",
       "      <td>1008</td>\n",
       "      <td>2.3</td>\n",
       "      <td>33</td>\n",
       "      <td>Evening</td>\n",
       "      <td>Summer</td>\n",
       "    </tr>\n",
       "    <tr>\n",
       "      <th>12603</th>\n",
       "      <td>9</td>\n",
       "      <td>19.1</td>\n",
       "      <td>810</td>\n",
       "      <td>0</td>\n",
       "      <td>69.65</td>\n",
       "      <td>1007</td>\n",
       "      <td>1.9</td>\n",
       "      <td>38</td>\n",
       "      <td>Afternoon</td>\n",
       "      <td>Summer</td>\n",
       "    </tr>\n",
       "    <tr>\n",
       "      <th>6055</th>\n",
       "      <td>5</td>\n",
       "      <td>4.8</td>\n",
       "      <td>210</td>\n",
       "      <td>0</td>\n",
       "      <td>93.38</td>\n",
       "      <td>1020</td>\n",
       "      <td>0.9</td>\n",
       "      <td>19</td>\n",
       "      <td>Night</td>\n",
       "      <td>Spring</td>\n",
       "    </tr>\n",
       "    <tr>\n",
       "      <th>3145</th>\n",
       "      <td>3</td>\n",
       "      <td>4.6</td>\n",
       "      <td>750</td>\n",
       "      <td>0</td>\n",
       "      <td>82.10</td>\n",
       "      <td>1000</td>\n",
       "      <td>0.8</td>\n",
       "      <td>10</td>\n",
       "      <td>Afternoon</td>\n",
       "      <td>Winter</td>\n",
       "    </tr>\n",
       "    <tr>\n",
       "      <th>15140</th>\n",
       "      <td>11</td>\n",
       "      <td>6.9</td>\n",
       "      <td>600</td>\n",
       "      <td>4</td>\n",
       "      <td>94.49</td>\n",
       "      <td>1001</td>\n",
       "      <td>1.6</td>\n",
       "      <td>46</td>\n",
       "      <td>Morning</td>\n",
       "      <td>Fall</td>\n",
       "    </tr>\n",
       "  </tbody>\n",
       "</table>\n",
       "</div>"
      ],
      "text/plain": [
       "       Month  Temperature  Time  Cloud Type  Relative Humidity  Pressure  \\\n",
       "970        1          7.4   300           8              92.91       989   \n",
       "14422     10         12.5   660           6              96.21      1013   \n",
       "4336       4          5.4   480           0              88.92      1007   \n",
       "1381       1          5.6  1110           0              92.48      1011   \n",
       "1018       1          6.3   300           8              93.65      1002   \n",
       "11032      8         14.7  1200           7              98.31      1008   \n",
       "12603      9         19.1   810           0              69.65      1007   \n",
       "6055       5          4.8   210           0              93.38      1020   \n",
       "3145       3          4.6   750           0              82.10      1000   \n",
       "15140     11          6.9   600           4              94.49      1001   \n",
       "\n",
       "       Precipitable Water  Week   Day Part  Season  \n",
       "970                   1.3     4    Morning  Winter  \n",
       "14422                 2.0    44    Morning    Fall  \n",
       "4336                  1.0    14    Morning  Spring  \n",
       "1381                  0.7     5    Evening  Winter  \n",
       "1018                  1.3     4    Morning  Winter  \n",
       "11032                 2.3    33    Evening  Summer  \n",
       "12603                 1.9    38  Afternoon  Summer  \n",
       "6055                  0.9    19      Night  Spring  \n",
       "3145                  0.8    10  Afternoon  Winter  \n",
       "15140                 1.6    46    Morning    Fall  "
      ]
     },
     "execution_count": 34,
     "metadata": {},
     "output_type": "execute_result"
    }
   ],
   "source": [
    "df_controlled_scaled_up = df_controlled_unordered.filter(['Month','Temperature', 'Time', 'Cloud Type', 'Relative Humidity', 'Pressure', 'Precipitable Water', 'Week', 'Day Part', 'Season'], axis=1)\n",
    "print(len(df_controlled_scaled_up))\n",
    "df_controlled_scaled_up.sample(n=10)"
   ]
  },
  {
   "cell_type": "code",
   "execution_count": 35,
   "id": "4dfed995",
   "metadata": {},
   "outputs": [
    {
     "name": "stdout",
     "output_type": "stream",
     "text": [
      "17520\n"
     ]
    },
    {
     "data": {
      "text/html": [
       "<div>\n",
       "<style scoped>\n",
       "    .dataframe tbody tr th:only-of-type {\n",
       "        vertical-align: middle;\n",
       "    }\n",
       "\n",
       "    .dataframe tbody tr th {\n",
       "        vertical-align: top;\n",
       "    }\n",
       "\n",
       "    .dataframe thead th {\n",
       "        text-align: right;\n",
       "    }\n",
       "</style>\n",
       "<table border=\"1\" class=\"dataframe\">\n",
       "  <thead>\n",
       "    <tr style=\"text-align: right;\">\n",
       "      <th></th>\n",
       "      <th>Day Number</th>\n",
       "      <th>Hour</th>\n",
       "      <th>Minute</th>\n",
       "      <th>Temperature</th>\n",
       "      <th>Cloud Type</th>\n",
       "      <th>Relative Humidity</th>\n",
       "      <th>Pressure</th>\n",
       "      <th>Precipitable Water</th>\n",
       "      <th>Week</th>\n",
       "      <th>Day Part</th>\n",
       "    </tr>\n",
       "  </thead>\n",
       "  <tbody>\n",
       "    <tr>\n",
       "      <th>12733</th>\n",
       "      <td>266</td>\n",
       "      <td>6</td>\n",
       "      <td>30</td>\n",
       "      <td>15.1</td>\n",
       "      <td>6</td>\n",
       "      <td>95.47</td>\n",
       "      <td>994</td>\n",
       "      <td>3.3</td>\n",
       "      <td>39</td>\n",
       "      <td>Morning</td>\n",
       "    </tr>\n",
       "    <tr>\n",
       "      <th>15805</th>\n",
       "      <td>330</td>\n",
       "      <td>6</td>\n",
       "      <td>30</td>\n",
       "      <td>5.6</td>\n",
       "      <td>8</td>\n",
       "      <td>91.35</td>\n",
       "      <td>1017</td>\n",
       "      <td>1.1</td>\n",
       "      <td>48</td>\n",
       "      <td>Morning</td>\n",
       "    </tr>\n",
       "    <tr>\n",
       "      <th>9559</th>\n",
       "      <td>200</td>\n",
       "      <td>3</td>\n",
       "      <td>30</td>\n",
       "      <td>12.5</td>\n",
       "      <td>0</td>\n",
       "      <td>95.04</td>\n",
       "      <td>1010</td>\n",
       "      <td>2.3</td>\n",
       "      <td>29</td>\n",
       "      <td>Night</td>\n",
       "    </tr>\n",
       "    <tr>\n",
       "      <th>5117</th>\n",
       "      <td>107</td>\n",
       "      <td>14</td>\n",
       "      <td>30</td>\n",
       "      <td>13.0</td>\n",
       "      <td>4</td>\n",
       "      <td>67.16</td>\n",
       "      <td>1003</td>\n",
       "      <td>1.9</td>\n",
       "      <td>16</td>\n",
       "      <td>Afternoon</td>\n",
       "    </tr>\n",
       "    <tr>\n",
       "      <th>8586</th>\n",
       "      <td>179</td>\n",
       "      <td>21</td>\n",
       "      <td>0</td>\n",
       "      <td>12.5</td>\n",
       "      <td>0</td>\n",
       "      <td>92.60</td>\n",
       "      <td>1004</td>\n",
       "      <td>2.1</td>\n",
       "      <td>26</td>\n",
       "      <td>Night</td>\n",
       "    </tr>\n",
       "    <tr>\n",
       "      <th>2737</th>\n",
       "      <td>58</td>\n",
       "      <td>0</td>\n",
       "      <td>30</td>\n",
       "      <td>5.5</td>\n",
       "      <td>8</td>\n",
       "      <td>95.55</td>\n",
       "      <td>1021</td>\n",
       "      <td>1.5</td>\n",
       "      <td>9</td>\n",
       "      <td>Night</td>\n",
       "    </tr>\n",
       "    <tr>\n",
       "      <th>15294</th>\n",
       "      <td>319</td>\n",
       "      <td>15</td>\n",
       "      <td>0</td>\n",
       "      <td>9.1</td>\n",
       "      <td>0</td>\n",
       "      <td>90.36</td>\n",
       "      <td>1005</td>\n",
       "      <td>1.3</td>\n",
       "      <td>46</td>\n",
       "      <td>Afternoon</td>\n",
       "    </tr>\n",
       "    <tr>\n",
       "      <th>593</th>\n",
       "      <td>13</td>\n",
       "      <td>8</td>\n",
       "      <td>30</td>\n",
       "      <td>0.4</td>\n",
       "      <td>4</td>\n",
       "      <td>77.03</td>\n",
       "      <td>998</td>\n",
       "      <td>0.7</td>\n",
       "      <td>2</td>\n",
       "      <td>Morning</td>\n",
       "    </tr>\n",
       "    <tr>\n",
       "      <th>9702</th>\n",
       "      <td>203</td>\n",
       "      <td>3</td>\n",
       "      <td>0</td>\n",
       "      <td>12.7</td>\n",
       "      <td>0</td>\n",
       "      <td>96.19</td>\n",
       "      <td>1001</td>\n",
       "      <td>2.3</td>\n",
       "      <td>30</td>\n",
       "      <td>Night</td>\n",
       "    </tr>\n",
       "    <tr>\n",
       "      <th>3554</th>\n",
       "      <td>75</td>\n",
       "      <td>1</td>\n",
       "      <td>0</td>\n",
       "      <td>1.5</td>\n",
       "      <td>0</td>\n",
       "      <td>80.30</td>\n",
       "      <td>1012</td>\n",
       "      <td>0.8</td>\n",
       "      <td>11</td>\n",
       "      <td>Night</td>\n",
       "    </tr>\n",
       "  </tbody>\n",
       "</table>\n",
       "</div>"
      ],
      "text/plain": [
       "       Day Number  Hour  Minute  Temperature  Cloud Type  Relative Humidity  \\\n",
       "12733         266     6      30         15.1           6              95.47   \n",
       "15805         330     6      30          5.6           8              91.35   \n",
       "9559          200     3      30         12.5           0              95.04   \n",
       "5117          107    14      30         13.0           4              67.16   \n",
       "8586          179    21       0         12.5           0              92.60   \n",
       "2737           58     0      30          5.5           8              95.55   \n",
       "15294         319    15       0          9.1           0              90.36   \n",
       "593            13     8      30          0.4           4              77.03   \n",
       "9702          203     3       0         12.7           0              96.19   \n",
       "3554           75     1       0          1.5           0              80.30   \n",
       "\n",
       "       Pressure  Precipitable Water  Week   Day Part  \n",
       "12733       994                 3.3    39    Morning  \n",
       "15805      1017                 1.1    48    Morning  \n",
       "9559       1010                 2.3    29      Night  \n",
       "5117       1003                 1.9    16  Afternoon  \n",
       "8586       1004                 2.1    26      Night  \n",
       "2737       1021                 1.5     9      Night  \n",
       "15294      1005                 1.3    46  Afternoon  \n",
       "593         998                 0.7     2    Morning  \n",
       "9702       1001                 2.3    30      Night  \n",
       "3554       1012                 0.8    11      Night  "
      ]
     },
     "execution_count": 35,
     "metadata": {},
     "output_type": "execute_result"
    }
   ],
   "source": [
    "df_controlled_scaled_down = df_controlled_unordered.filter(['Day Number', 'Hour', 'Minute', 'Temperature', 'Cloud Type', 'Relative Humidity', 'Pressure', 'Precipitable Water', 'Week', 'Day Part'], axis=1)\n",
    "print(len(df_controlled_scaled_down))\n",
    "df_controlled_scaled_down.sample(n=10)"
   ]
  },
  {
   "cell_type": "markdown",
   "id": "c6f0f76a",
   "metadata": {},
   "source": [
    "# Data Visualisation"
   ]
  },
  {
   "cell_type": "markdown",
   "id": "9af274f6",
   "metadata": {},
   "source": [
    "## Trend Over The Year"
   ]
  },
  {
   "cell_type": "code",
   "execution_count": 36,
   "id": "7cef6a66",
   "metadata": {},
   "outputs": [],
   "source": [
    "daily_table = df_controlled_unordered.pivot_table(index = ['Day Number']  , aggfunc = { 'Pressure' : np.mean , 'Precipitable Water' : np.mean, 'Relative Humidity':np.mean } )\n",
    "daily_table = daily_table.reset_index()"
   ]
  },
  {
   "cell_type": "code",
   "execution_count": 37,
   "id": "426685ca",
   "metadata": {},
   "outputs": [],
   "source": [
    "weekly_table = df_controlled_unordered.pivot_table(index = ['Week']  , aggfunc = { 'Pressure' : np.mean , 'Precipitable Water' : np.mean, 'Relative Humidity':np.mean } )\n",
    "weekly_table = weekly_table.reset_index()"
   ]
  },
  {
   "cell_type": "code",
   "execution_count": 38,
   "id": "41f1b909",
   "metadata": {},
   "outputs": [],
   "source": [
    "monthly_table = df_controlled_unordered.pivot_table(index = ['Month']  , aggfunc = { 'Pressure' : np.mean , 'Precipitable Water' : np.mean, 'Relative Humidity':np.mean } )\n",
    "monthly_table = monthly_table.reset_index()"
   ]
  },
  {
   "cell_type": "code",
   "execution_count": 39,
   "id": "f63887d0",
   "metadata": {},
   "outputs": [],
   "source": [
    "seasonal_table = df_controlled_unordered.pivot_table(index = ['Season']  , aggfunc = { 'Pressure' : np.mean , 'Precipitable Water' : np.mean, 'Relative Humidity':np.mean } )\n",
    "seasonal_table = seasonal_table.reset_index()"
   ]
  },
  {
   "cell_type": "code",
   "execution_count": 40,
   "id": "c89d9516",
   "metadata": {},
   "outputs": [
    {
     "data": {
      "text/plain": [
       "<matplotlib.pyplot._xkcd at 0x288cf0a60>"
      ]
     },
     "execution_count": 40,
     "metadata": {},
     "output_type": "execute_result"
    }
   ],
   "source": [
    "plt.style.use('seaborn-paper')\n",
    "plt.xkcd() "
   ]
  },
  {
   "cell_type": "markdown",
   "id": "8bf9548e",
   "metadata": {},
   "source": [
    "### All Data Points"
   ]
  },
  {
   "cell_type": "code",
   "execution_count": 41,
   "id": "d8e77e6a",
   "metadata": {},
   "outputs": [
    {
     "data": {
      "text/plain": [
       "[<matplotlib.lines.Line2D at 0x288d8e460>]"
      ]
     },
     "execution_count": 41,
     "metadata": {},
     "output_type": "execute_result"
    },
    {
     "data": {
      "image/png": "[encoded data removed]",
      "text/plain": [
       "<Figure size 432x288 with 1 Axes>"
      ]
     },
     "metadata": {
      "needs_background": "light"
     },
     "output_type": "display_data"
    }
   ],
   "source": [
    "plt.plot(df_controlled['Day Number'] , df_controlled['Precipitable Water'] )"
   ]
  },
  {
   "cell_type": "markdown",
   "id": "c09c1fab",
   "metadata": {},
   "source": [
    "### Daily Trend"
   ]
  },
  {
   "cell_type": "code",
   "execution_count": 42,
   "id": "c4de40ac",
   "metadata": {},
   "outputs": [
    {
     "data": {
      "text/plain": [
       "[<matplotlib.lines.Line2D at 0x288e78f70>]"
      ]
     },
     "execution_count": 42,
     "metadata": {},
     "output_type": "execute_result"
    },
    {
     "data": {
      "image/png": "[encoded data removed]",
      "text/plain": [
       "<Figure size 432x288 with 1 Axes>"
      ]
     },
     "metadata": {
      "needs_background": "light"
     },
     "output_type": "display_data"
    }
   ],
   "source": [
    "plt.plot(daily_table['Day Number'] , daily_table['Precipitable Water'] )"
   ]
  },
  {
   "cell_type": "markdown",
   "id": "f9d3d3c0",
   "metadata": {},
   "source": [
    "### Weekly Trend"
   ]
  },
  {
   "cell_type": "code",
   "execution_count": 43,
   "id": "7d3a36ea",
   "metadata": {
    "scrolled": true
   },
   "outputs": [
    {
     "data": {
      "text/plain": [
       "[<matplotlib.lines.Line2D at 0x288ef1a60>]"
      ]
     },
     "execution_count": 43,
     "metadata": {},
     "output_type": "execute_result"
    },
    {
     "data": {
      "image/png": "[encoded data removed]",
      "text/plain": [
       "<Figure size 432x288 with 1 Axes>"
      ]
     },
     "metadata": {
      "needs_background": "light"
     },
     "output_type": "display_data"
    }
   ],
   "source": [
    "plt.plot(weekly_table['Week'] , weekly_table['Precipitable Water'] )"
   ]
  },
  {
   "cell_type": "markdown",
   "id": "281fab44",
   "metadata": {},
   "source": [
    "### Monthly Trend"
   ]
  },
  {
   "cell_type": "code",
   "execution_count": 44,
   "id": "80aebe17",
   "metadata": {},
   "outputs": [
    {
     "data": {
      "text/plain": [
       "[<matplotlib.lines.Line2D at 0x288f652e0>]"
      ]
     },
     "execution_count": 44,
     "metadata": {},
     "output_type": "execute_result"
    },
    {
     "data": {
      "image/png": "[encoded data removed]",
      "text/plain": [
       "<Figure size 432x288 with 1 Axes>"
      ]
     },
     "metadata": {
      "needs_background": "light"
     },
     "output_type": "display_data"
    }
   ],
   "source": [
    "plt.plot(monthly_table['Month'] , monthly_table['Precipitable Water'] )"
   ]
  },
  {
   "cell_type": "markdown",
   "id": "66c6ad4d",
   "metadata": {},
   "source": [
    "### Seasonal Trend"
   ]
  },
  {
   "cell_type": "code",
   "execution_count": 45,
   "id": "50f3c10f",
   "metadata": {},
   "outputs": [
    {
     "data": {
      "text/plain": [
       "[<matplotlib.lines.Line2D at 0x288fb1dc0>]"
      ]
     },
     "execution_count": 45,
     "metadata": {},
     "output_type": "execute_result"
    },
    {
     "data": {
      "image/png": "[encoded data removed]",
      "text/plain": [
       "<Figure size 432x288 with 1 Axes>"
      ]
     },
     "metadata": {
      "needs_background": "light"
     },
     "output_type": "display_data"
    }
   ],
   "source": [
    "plt.plot(seasonal_table['Season'] , seasonal_table['Precipitable Water'] )"
   ]
  },
  {
   "cell_type": "markdown",
   "id": "18196643",
   "metadata": {},
   "source": [
    "## Trend Within A Month"
   ]
  },
  {
   "cell_type": "code",
   "execution_count": 46,
   "id": "338c53fd",
   "metadata": {},
   "outputs": [],
   "source": [
    "def generateRandomMonth(n, df):\n",
    "    random_month = {}\n",
    "    for i in range(n):\n",
    "        random_month[i] = np.random.randint(12) + 1\n",
    "        mask = (df['Month'] == random_month[i])\n",
    "        df_random_month = df.loc[mask]\n",
    "        within_month_table = df_random_month.pivot_table(index = ['Day Number']  , aggfunc = { 'Pressure' : np.mean , 'Precipitable Water' : np.mean, 'Relative Humidity':np.mean } )\n",
    "        within_month_table = within_month_table.reset_index()\n",
    "        # print(within_month_table.head())\n",
    "        plt.plot(within_month_table.index , within_month_table['Precipitable Water'] )"
   ]
  },
  {
   "cell_type": "code",
   "execution_count": 47,
   "id": "05550768",
   "metadata": {},
   "outputs": [
    {
     "data": {
      "image/png": "[encoded data removed]",
      "text/plain": [
       "<Figure size 432x288 with 1 Axes>"
      ]
     },
     "metadata": {
      "needs_background": "light"
     },
     "output_type": "display_data"
    }
   ],
   "source": [
    "generateRandomMonth(5, df_controlled)"
   ]
  },
  {
   "cell_type": "markdown",
   "id": "9f42ef59",
   "metadata": {},
   "source": [
    "## Trend Within A Season"
   ]
  },
  {
   "cell_type": "code",
   "execution_count": 48,
   "id": "797e7832",
   "metadata": {},
   "outputs": [],
   "source": [
    "def generateSeasonsSeperate(df):\n",
    "    season = ['Spring', 'Summer', 'Fall', 'Winter']\n",
    "    for i in range(4):\n",
    "        mask = (df['Season'] == season[i])\n",
    "        df_season = df.loc[mask]\n",
    "        within_season_table = df_season.pivot_table(index = ['Day Number']  , aggfunc = { 'Pressure' : np.mean , 'Precipitable Water' : np.mean, 'Relative Humidity':np.mean } )\n",
    "        within_season_table = within_season_table.reset_index()\n",
    "        # print(within_month_table.head())\n",
    "        plt.figure()\n",
    "        plt.plot(within_season_table.index , within_season_table['Precipitable Water'] )\n",
    "        plt.title(season[i])\n",
    "        plt.show()\n",
    "def generateSeasonsTogether(df):\n",
    "    season = ['Spring', 'Summer', 'Fall', 'Winter']\n",
    "    for i in range(4):\n",
    "        mask = (df['Season'] == season[i])\n",
    "        df_season = df.loc[mask]\n",
    "        within_season_table = df_season.pivot_table(index = ['Day Number']  , aggfunc = { 'Pressure' : np.mean , 'Precipitable Water' : np.mean, 'Relative Humidity':np.mean } )\n",
    "        within_season_table = within_season_table.reset_index()\n",
    "        plt.plot(within_season_table.index , within_season_table['Precipitable Water'] )\n",
    "    plt.legend(season)"
   ]
  },
  {
   "cell_type": "code",
   "execution_count": 49,
   "id": "6b01f582",
   "metadata": {},
   "outputs": [
    {
     "data": {
      "image/png": "[encoded data removed]",
      "text/plain": [
       "<Figure size 432x288 with 1 Axes>"
      ]
     },
     "metadata": {
      "needs_background": "light"
     },
     "output_type": "display_data"
    },
    {
     "data": {
      "image/png": "[encoded data removed]",
      "text/plain": [
       "<Figure size 432x288 with 1 Axes>"
      ]
     },
     "metadata": {
      "needs_background": "light"
     },
     "output_type": "display_data"
    },
    {
     "data": {
      "image/png": "[encoded data removed]",
      "text/plain": [
       "<Figure size 432x288 with 1 Axes>"
      ]
     },
     "metadata": {
      "needs_background": "light"
     },
     "output_type": "display_data"
    },
    {
     "data": {
      "image/png": "[encoded data removed]",
      "text/plain": [
       "<Figure size 432x288 with 1 Axes>"
      ]
     },
     "metadata": {
      "needs_background": "light"
     },
     "output_type": "display_data"
    }
   ],
   "source": [
    "generateSeasonsSeperate(df_controlled_unordered)"
   ]
  },
  {
   "cell_type": "code",
   "execution_count": 50,
   "id": "0c75aa8d",
   "metadata": {},
   "outputs": [
    {
     "data": {
      "image/png": "[encoded data removed]",
      "text/plain": [
       "<Figure size 432x288 with 1 Axes>"
      ]
     },
     "metadata": {
      "needs_background": "light"
     },
     "output_type": "display_data"
    }
   ],
   "source": [
    "generateSeasonsTogether(df_controlled_unordered)"
   ]
  },
  {
   "cell_type": "markdown",
   "id": "fc536ad7",
   "metadata": {},
   "source": [
    "## Daily Trends"
   ]
  },
  {
   "cell_type": "code",
   "execution_count": 51,
   "id": "3f837b86",
   "metadata": {},
   "outputs": [],
   "source": [
    "def generateRandomPlots(n, df):\n",
    "    random_day = {}\n",
    "    for i in range(n):\n",
    "        random_day[i] = np.random.randint(365)\n",
    "        # print(random_day[i])\n",
    "        mask = (df['Day Number'] == random_day[i])\n",
    "        df_random_day = df.loc[mask]\n",
    "        plt.plot(df_random_day['Time'] , df_random_day['Precipitable Water'] )"
   ]
  },
  {
   "cell_type": "code",
   "execution_count": 52,
   "id": "5ac1f1c4",
   "metadata": {},
   "outputs": [
    {
     "data": {
      "image/png": "[encoded data removed]",
      "text/plain": [
       "<Figure size 432x288 with 1 Axes>"
      ]
     },
     "metadata": {
      "needs_background": "light"
     },
     "output_type": "display_data"
    }
   ],
   "source": [
    "generateRandomPlots(5, df_controlled)"
   ]
  },
  {
   "cell_type": "code",
   "execution_count": 53,
   "id": "4f91ad4c",
   "metadata": {},
   "outputs": [
    {
     "data": {
      "text/plain": [
       "<AxesSubplot:>"
      ]
     },
     "execution_count": 53,
     "metadata": {},
     "output_type": "execute_result"
    },
    {
     "data": {
      "image/png": "[encoded data removed]",
      "text/plain": [
       "<Figure size 432x288 with 2 Axes>"
      ]
     },
     "metadata": {
      "needs_background": "light"
     },
     "output_type": "display_data"
    }
   ],
   "source": [
    "sns.heatmap(df_controlled.corr(), vmin= -1, vmax=1, annot=False)"
   ]
  },
  {
   "cell_type": "code",
   "execution_count": 54,
   "id": "65ff71df",
   "metadata": {},
   "outputs": [
    {
     "data": {
      "text/plain": [
       "Year                       NaN\n",
       "Month                 0.225125\n",
       "Day                   0.034762\n",
       "Hour                  0.011383\n",
       "Minute                0.000229\n",
       "Temperature           0.635046\n",
       "Cloud Type            0.099745\n",
       "Relative Humidity     0.218254\n",
       "Pressure             -0.106451\n",
       "Precipitable Water    1.000000\n",
       "Time                  0.011384\n",
       "Day Number            0.226324\n",
       "Week                  0.225751\n",
       "Name: Precipitable Water, dtype: float64"
      ]
     },
     "execution_count": 54,
     "metadata": {},
     "output_type": "execute_result"
    }
   ],
   "source": [
    "df_controlled.corr()['Precipitable Water']"
   ]
  },
  {
   "cell_type": "markdown",
   "id": "570e43b1",
   "metadata": {},
   "source": [
    "# Model Training Ideas\n",
    "* There seems to be trends within days as well as trends over the year\n",
    "    * An ideal model will be able to exploit both\n",
    "    * Hierarchical model with 2 policies—high-level and low-level\n",
    "1. Year-long model\n",
    "    * Takes into account variables such as season, week, etc\n",
    "    1. Average variables over weeks/months/seasons to create a much smaller dataset\n",
    "    2. Apply our analysis to the entire year's data\n",
    "2. Seasonal model\n",
    "    * Takes into account x random days from a particular season\n",
    "* Build a model for a particular location (x-y pair) first\n",
    "* Generalise over all locations\n",
    "    * Requires further data analysis to figure out what area-span to consider"
   ]
  },
  {
   "cell_type": "markdown",
   "id": "7781d8a3",
   "metadata": {},
   "source": [
    "# Model Building"
   ]
  },
  {
   "cell_type": "markdown",
   "id": "0177b2f7",
   "metadata": {},
   "source": [
    "## Converting Categorical Variables"
   ]
  },
  {
   "cell_type": "code",
   "execution_count": 55,
   "id": "750dfac7",
   "metadata": {},
   "outputs": [],
   "source": [
    "df_controlled_unordered['Day Part'] = df_controlled_unordered['Day Part'].astype('category')\n",
    "df_controlled_unordered['Day Part'] = df_controlled_unordered['Day Part'].cat.codes"
   ]
  },
  {
   "cell_type": "code",
   "execution_count": 56,
   "id": "2af39226",
   "metadata": {},
   "outputs": [],
   "source": [
    "df_controlled_unordered['Season'] = df_controlled_unordered['Season'].astype('category')\n",
    "df_controlled_unordered['Season'] = df_controlled_unordered['Season'].cat.codes"
   ]
  },
  {
   "cell_type": "markdown",
   "id": "513bb438",
   "metadata": {},
   "source": [
    "## Data Scaling"
   ]
  },
  {
   "cell_type": "code",
   "execution_count": 144,
   "id": "47aa9252",
   "metadata": {},
   "outputs": [],
   "source": [
    "from sklearn.preprocessing import StandardScaler\n",
    "df_controlled_unordered_normalised = df_controlled_unordered.copy()\n",
    "df_controlled_unordered_normalised[df_controlled_unordered_normalised.columns] = StandardScaler().fit_transform(df_controlled_unordered_normalised[df_controlled_unordered_normalised.columns])"
   ]
  },
  {
   "cell_type": "markdown",
   "id": "8844247d",
   "metadata": {},
   "source": [
    "## Building Short and Long Term Tables"
   ]
  },
  {
   "cell_type": "code",
   "execution_count": 145,
   "id": "ff342da8",
   "metadata": {},
   "outputs": [
    {
     "data": {
      "text/html": [
       "<div>\n",
       "<style scoped>\n",
       "    .dataframe tbody tr th:only-of-type {\n",
       "        vertical-align: middle;\n",
       "    }\n",
       "\n",
       "    .dataframe tbody tr th {\n",
       "        vertical-align: top;\n",
       "    }\n",
       "\n",
       "    .dataframe thead th {\n",
       "        text-align: right;\n",
       "    }\n",
       "</style>\n",
       "<table border=\"1\" class=\"dataframe\">\n",
       "  <thead>\n",
       "    <tr style=\"text-align: right;\">\n",
       "      <th></th>\n",
       "      <th>Month</th>\n",
       "      <th>Temperature</th>\n",
       "      <th>Time</th>\n",
       "      <th>Cloud Type</th>\n",
       "      <th>Relative Humidity</th>\n",
       "      <th>Pressure</th>\n",
       "      <th>Precipitable Water</th>\n",
       "      <th>Week</th>\n",
       "      <th>Day Part</th>\n",
       "      <th>Season</th>\n",
       "    </tr>\n",
       "  </thead>\n",
       "  <tbody>\n",
       "    <tr>\n",
       "      <th>2779</th>\n",
       "      <td>2</td>\n",
       "      <td>5.7</td>\n",
       "      <td>1290</td>\n",
       "      <td>4</td>\n",
       "      <td>94.85</td>\n",
       "      <td>1015</td>\n",
       "      <td>1.2</td>\n",
       "      <td>9</td>\n",
       "      <td>Night</td>\n",
       "      <td>Winter</td>\n",
       "    </tr>\n",
       "    <tr>\n",
       "      <th>1624</th>\n",
       "      <td>2</td>\n",
       "      <td>2.0</td>\n",
       "      <td>1200</td>\n",
       "      <td>8</td>\n",
       "      <td>60.40</td>\n",
       "      <td>1019</td>\n",
       "      <td>0.8</td>\n",
       "      <td>5</td>\n",
       "      <td>Evening</td>\n",
       "      <td>Winter</td>\n",
       "    </tr>\n",
       "    <tr>\n",
       "      <th>15457</th>\n",
       "      <td>11</td>\n",
       "      <td>5.5</td>\n",
       "      <td>30</td>\n",
       "      <td>7</td>\n",
       "      <td>91.96</td>\n",
       "      <td>1002</td>\n",
       "      <td>1.0</td>\n",
       "      <td>47</td>\n",
       "      <td>Night</td>\n",
       "      <td>Fall</td>\n",
       "    </tr>\n",
       "    <tr>\n",
       "      <th>14364</th>\n",
       "      <td>10</td>\n",
       "      <td>8.5</td>\n",
       "      <td>360</td>\n",
       "      <td>0</td>\n",
       "      <td>96.61</td>\n",
       "      <td>1017</td>\n",
       "      <td>1.7</td>\n",
       "      <td>43</td>\n",
       "      <td>Morning</td>\n",
       "      <td>Fall</td>\n",
       "    </tr>\n",
       "    <tr>\n",
       "      <th>4389</th>\n",
       "      <td>4</td>\n",
       "      <td>6.2</td>\n",
       "      <td>630</td>\n",
       "      <td>4</td>\n",
       "      <td>69.62</td>\n",
       "      <td>1011</td>\n",
       "      <td>0.8</td>\n",
       "      <td>14</td>\n",
       "      <td>Morning</td>\n",
       "      <td>Spring</td>\n",
       "    </tr>\n",
       "    <tr>\n",
       "      <th>15732</th>\n",
       "      <td>11</td>\n",
       "      <td>6.6</td>\n",
       "      <td>1080</td>\n",
       "      <td>0</td>\n",
       "      <td>90.12</td>\n",
       "      <td>1001</td>\n",
       "      <td>1.1</td>\n",
       "      <td>47</td>\n",
       "      <td>Evening</td>\n",
       "      <td>Fall</td>\n",
       "    </tr>\n",
       "    <tr>\n",
       "      <th>5750</th>\n",
       "      <td>4</td>\n",
       "      <td>8.5</td>\n",
       "      <td>1140</td>\n",
       "      <td>0</td>\n",
       "      <td>92.20</td>\n",
       "      <td>1009</td>\n",
       "      <td>1.2</td>\n",
       "      <td>18</td>\n",
       "      <td>Evening</td>\n",
       "      <td>Spring</td>\n",
       "    </tr>\n",
       "    <tr>\n",
       "      <th>4263</th>\n",
       "      <td>3</td>\n",
       "      <td>4.6</td>\n",
       "      <td>1170</td>\n",
       "      <td>2</td>\n",
       "      <td>89.89</td>\n",
       "      <td>1000</td>\n",
       "      <td>1.0</td>\n",
       "      <td>13</td>\n",
       "      <td>Evening</td>\n",
       "      <td>Spring</td>\n",
       "    </tr>\n",
       "    <tr>\n",
       "      <th>16989</th>\n",
       "      <td>12</td>\n",
       "      <td>5.6</td>\n",
       "      <td>1350</td>\n",
       "      <td>8</td>\n",
       "      <td>91.36</td>\n",
       "      <td>1005</td>\n",
       "      <td>1.9</td>\n",
       "      <td>51</td>\n",
       "      <td>Night</td>\n",
       "      <td>Fall</td>\n",
       "    </tr>\n",
       "    <tr>\n",
       "      <th>70</th>\n",
       "      <td>1</td>\n",
       "      <td>4.7</td>\n",
       "      <td>660</td>\n",
       "      <td>8</td>\n",
       "      <td>94.09</td>\n",
       "      <td>1005</td>\n",
       "      <td>1.8</td>\n",
       "      <td>1</td>\n",
       "      <td>Morning</td>\n",
       "      <td>Winter</td>\n",
       "    </tr>\n",
       "    <tr>\n",
       "      <th>8247</th>\n",
       "      <td>6</td>\n",
       "      <td>11.6</td>\n",
       "      <td>1170</td>\n",
       "      <td>0</td>\n",
       "      <td>87.17</td>\n",
       "      <td>1012</td>\n",
       "      <td>2.6</td>\n",
       "      <td>25</td>\n",
       "      <td>Evening</td>\n",
       "      <td>Summer</td>\n",
       "    </tr>\n",
       "    <tr>\n",
       "      <th>1518</th>\n",
       "      <td>2</td>\n",
       "      <td>4.7</td>\n",
       "      <td>900</td>\n",
       "      <td>0</td>\n",
       "      <td>72.68</td>\n",
       "      <td>1011</td>\n",
       "      <td>0.7</td>\n",
       "      <td>5</td>\n",
       "      <td>Afternoon</td>\n",
       "      <td>Winter</td>\n",
       "    </tr>\n",
       "    <tr>\n",
       "      <th>11563</th>\n",
       "      <td>8</td>\n",
       "      <td>11.5</td>\n",
       "      <td>1290</td>\n",
       "      <td>0</td>\n",
       "      <td>98.50</td>\n",
       "      <td>1009</td>\n",
       "      <td>1.6</td>\n",
       "      <td>35</td>\n",
       "      <td>Night</td>\n",
       "      <td>Summer</td>\n",
       "    </tr>\n",
       "    <tr>\n",
       "      <th>9564</th>\n",
       "      <td>7</td>\n",
       "      <td>15.8</td>\n",
       "      <td>360</td>\n",
       "      <td>3</td>\n",
       "      <td>100.00</td>\n",
       "      <td>1010</td>\n",
       "      <td>2.3</td>\n",
       "      <td>29</td>\n",
       "      <td>Morning</td>\n",
       "      <td>Summer</td>\n",
       "    </tr>\n",
       "    <tr>\n",
       "      <th>1964</th>\n",
       "      <td>2</td>\n",
       "      <td>4.7</td>\n",
       "      <td>1320</td>\n",
       "      <td>7</td>\n",
       "      <td>87.81</td>\n",
       "      <td>1019</td>\n",
       "      <td>1.3</td>\n",
       "      <td>6</td>\n",
       "      <td>Night</td>\n",
       "      <td>Winter</td>\n",
       "    </tr>\n",
       "  </tbody>\n",
       "</table>\n",
       "</div>"
      ],
      "text/plain": [
       "       Month  Temperature  Time  Cloud Type  Relative Humidity  Pressure  \\\n",
       "2779       2          5.7  1290           4              94.85      1015   \n",
       "1624       2          2.0  1200           8              60.40      1019   \n",
       "15457     11          5.5    30           7              91.96      1002   \n",
       "14364     10          8.5   360           0              96.61      1017   \n",
       "4389       4          6.2   630           4              69.62      1011   \n",
       "15732     11          6.6  1080           0              90.12      1001   \n",
       "5750       4          8.5  1140           0              92.20      1009   \n",
       "4263       3          4.6  1170           2              89.89      1000   \n",
       "16989     12          5.6  1350           8              91.36      1005   \n",
       "70         1          4.7   660           8              94.09      1005   \n",
       "8247       6         11.6  1170           0              87.17      1012   \n",
       "1518       2          4.7   900           0              72.68      1011   \n",
       "11563      8         11.5  1290           0              98.50      1009   \n",
       "9564       7         15.8   360           3             100.00      1010   \n",
       "1964       2          4.7  1320           7              87.81      1019   \n",
       "\n",
       "       Precipitable Water  Week   Day Part  Season  \n",
       "2779                  1.2     9      Night  Winter  \n",
       "1624                  0.8     5    Evening  Winter  \n",
       "15457                 1.0    47      Night    Fall  \n",
       "14364                 1.7    43    Morning    Fall  \n",
       "4389                  0.8    14    Morning  Spring  \n",
       "15732                 1.1    47    Evening    Fall  \n",
       "5750                  1.2    18    Evening  Spring  \n",
       "4263                  1.0    13    Evening  Spring  \n",
       "16989                 1.9    51      Night    Fall  \n",
       "70                    1.8     1    Morning  Winter  \n",
       "8247                  2.6    25    Evening  Summer  \n",
       "1518                  0.7     5  Afternoon  Winter  \n",
       "11563                 1.6    35      Night  Summer  \n",
       "9564                  2.3    29    Morning  Summer  \n",
       "1964                  1.3     6      Night  Winter  "
      ]
     },
     "execution_count": 145,
     "metadata": {},
     "output_type": "execute_result"
    }
   ],
   "source": [
    "df_controlled_scaled_up.sample(n=15)"
   ]
  },
  {
   "cell_type": "code",
   "execution_count": 146,
   "id": "1678f9cc",
   "metadata": {},
   "outputs": [
    {
     "data": {
      "text/html": [
       "<div>\n",
       "<style scoped>\n",
       "    .dataframe tbody tr th:only-of-type {\n",
       "        vertical-align: middle;\n",
       "    }\n",
       "\n",
       "    .dataframe tbody tr th {\n",
       "        vertical-align: top;\n",
       "    }\n",
       "\n",
       "    .dataframe thead th {\n",
       "        text-align: right;\n",
       "    }\n",
       "</style>\n",
       "<table border=\"1\" class=\"dataframe\">\n",
       "  <thead>\n",
       "    <tr style=\"text-align: right;\">\n",
       "      <th></th>\n",
       "      <th>Day Number</th>\n",
       "      <th>Hour</th>\n",
       "      <th>Minute</th>\n",
       "      <th>Temperature</th>\n",
       "      <th>Cloud Type</th>\n",
       "      <th>Relative Humidity</th>\n",
       "      <th>Pressure</th>\n",
       "      <th>Precipitable Water</th>\n",
       "      <th>Week</th>\n",
       "      <th>Day Part</th>\n",
       "    </tr>\n",
       "  </thead>\n",
       "  <tbody>\n",
       "    <tr>\n",
       "      <th>2912</th>\n",
       "      <td>61</td>\n",
       "      <td>16</td>\n",
       "      <td>0</td>\n",
       "      <td>7.8</td>\n",
       "      <td>8</td>\n",
       "      <td>96.31</td>\n",
       "      <td>1010</td>\n",
       "      <td>2.4</td>\n",
       "      <td>9</td>\n",
       "      <td>Afternoon</td>\n",
       "    </tr>\n",
       "    <tr>\n",
       "      <th>4770</th>\n",
       "      <td>100</td>\n",
       "      <td>9</td>\n",
       "      <td>0</td>\n",
       "      <td>8.9</td>\n",
       "      <td>3</td>\n",
       "      <td>91.36</td>\n",
       "      <td>1009</td>\n",
       "      <td>2.2</td>\n",
       "      <td>15</td>\n",
       "      <td>Morning</td>\n",
       "    </tr>\n",
       "    <tr>\n",
       "      <th>14459</th>\n",
       "      <td>302</td>\n",
       "      <td>5</td>\n",
       "      <td>30</td>\n",
       "      <td>10.6</td>\n",
       "      <td>3</td>\n",
       "      <td>96.57</td>\n",
       "      <td>1010</td>\n",
       "      <td>1.7</td>\n",
       "      <td>44</td>\n",
       "      <td>Morning</td>\n",
       "    </tr>\n",
       "    <tr>\n",
       "      <th>3363</th>\n",
       "      <td>71</td>\n",
       "      <td>1</td>\n",
       "      <td>30</td>\n",
       "      <td>2.6</td>\n",
       "      <td>0</td>\n",
       "      <td>96.85</td>\n",
       "      <td>1018</td>\n",
       "      <td>0.8</td>\n",
       "      <td>11</td>\n",
       "      <td>Night</td>\n",
       "    </tr>\n",
       "    <tr>\n",
       "      <th>1190</th>\n",
       "      <td>25</td>\n",
       "      <td>19</td>\n",
       "      <td>0</td>\n",
       "      <td>7.7</td>\n",
       "      <td>8</td>\n",
       "      <td>94.57</td>\n",
       "      <td>999</td>\n",
       "      <td>1.0</td>\n",
       "      <td>4</td>\n",
       "      <td>Evening</td>\n",
       "    </tr>\n",
       "    <tr>\n",
       "      <th>17134</th>\n",
       "      <td>357</td>\n",
       "      <td>23</td>\n",
       "      <td>0</td>\n",
       "      <td>1.2</td>\n",
       "      <td>0</td>\n",
       "      <td>85.04</td>\n",
       "      <td>1012</td>\n",
       "      <td>0.4</td>\n",
       "      <td>52</td>\n",
       "      <td>Night</td>\n",
       "    </tr>\n",
       "    <tr>\n",
       "      <th>6344</th>\n",
       "      <td>133</td>\n",
       "      <td>4</td>\n",
       "      <td>0</td>\n",
       "      <td>10.1</td>\n",
       "      <td>4</td>\n",
       "      <td>94.28</td>\n",
       "      <td>997</td>\n",
       "      <td>2.0</td>\n",
       "      <td>20</td>\n",
       "      <td>Night</td>\n",
       "    </tr>\n",
       "    <tr>\n",
       "      <th>8378</th>\n",
       "      <td>175</td>\n",
       "      <td>13</td>\n",
       "      <td>0</td>\n",
       "      <td>17.4</td>\n",
       "      <td>3</td>\n",
       "      <td>77.73</td>\n",
       "      <td>1006</td>\n",
       "      <td>1.7</td>\n",
       "      <td>26</td>\n",
       "      <td>Afternoon</td>\n",
       "    </tr>\n",
       "    <tr>\n",
       "      <th>8502</th>\n",
       "      <td>178</td>\n",
       "      <td>3</td>\n",
       "      <td>0</td>\n",
       "      <td>11.6</td>\n",
       "      <td>0</td>\n",
       "      <td>93.56</td>\n",
       "      <td>1006</td>\n",
       "      <td>1.6</td>\n",
       "      <td>26</td>\n",
       "      <td>Night</td>\n",
       "    </tr>\n",
       "    <tr>\n",
       "      <th>7270</th>\n",
       "      <td>152</td>\n",
       "      <td>11</td>\n",
       "      <td>0</td>\n",
       "      <td>15.1</td>\n",
       "      <td>0</td>\n",
       "      <td>60.85</td>\n",
       "      <td>1012</td>\n",
       "      <td>1.4</td>\n",
       "      <td>22</td>\n",
       "      <td>Morning</td>\n",
       "    </tr>\n",
       "    <tr>\n",
       "      <th>11440</th>\n",
       "      <td>239</td>\n",
       "      <td>8</td>\n",
       "      <td>0</td>\n",
       "      <td>16.1</td>\n",
       "      <td>3</td>\n",
       "      <td>90.82</td>\n",
       "      <td>1007</td>\n",
       "      <td>2.2</td>\n",
       "      <td>35</td>\n",
       "      <td>Morning</td>\n",
       "    </tr>\n",
       "    <tr>\n",
       "      <th>13873</th>\n",
       "      <td>290</td>\n",
       "      <td>0</td>\n",
       "      <td>30</td>\n",
       "      <td>9.5</td>\n",
       "      <td>8</td>\n",
       "      <td>96.36</td>\n",
       "      <td>1009</td>\n",
       "      <td>1.0</td>\n",
       "      <td>42</td>\n",
       "      <td>Night</td>\n",
       "    </tr>\n",
       "    <tr>\n",
       "      <th>6152</th>\n",
       "      <td>129</td>\n",
       "      <td>4</td>\n",
       "      <td>0</td>\n",
       "      <td>11.1</td>\n",
       "      <td>3</td>\n",
       "      <td>80.53</td>\n",
       "      <td>1006</td>\n",
       "      <td>1.1</td>\n",
       "      <td>19</td>\n",
       "      <td>Night</td>\n",
       "    </tr>\n",
       "    <tr>\n",
       "      <th>14240</th>\n",
       "      <td>297</td>\n",
       "      <td>16</td>\n",
       "      <td>0</td>\n",
       "      <td>6.4</td>\n",
       "      <td>0</td>\n",
       "      <td>57.00</td>\n",
       "      <td>1015</td>\n",
       "      <td>0.5</td>\n",
       "      <td>43</td>\n",
       "      <td>Afternoon</td>\n",
       "    </tr>\n",
       "    <tr>\n",
       "      <th>7327</th>\n",
       "      <td>153</td>\n",
       "      <td>15</td>\n",
       "      <td>30</td>\n",
       "      <td>12.0</td>\n",
       "      <td>3</td>\n",
       "      <td>89.19</td>\n",
       "      <td>1012</td>\n",
       "      <td>1.6</td>\n",
       "      <td>22</td>\n",
       "      <td>Afternoon</td>\n",
       "    </tr>\n",
       "  </tbody>\n",
       "</table>\n",
       "</div>"
      ],
      "text/plain": [
       "       Day Number  Hour  Minute  Temperature  Cloud Type  Relative Humidity  \\\n",
       "2912           61    16       0          7.8           8              96.31   \n",
       "4770          100     9       0          8.9           3              91.36   \n",
       "14459         302     5      30         10.6           3              96.57   \n",
       "3363           71     1      30          2.6           0              96.85   \n",
       "1190           25    19       0          7.7           8              94.57   \n",
       "17134         357    23       0          1.2           0              85.04   \n",
       "6344          133     4       0         10.1           4              94.28   \n",
       "8378          175    13       0         17.4           3              77.73   \n",
       "8502          178     3       0         11.6           0              93.56   \n",
       "7270          152    11       0         15.1           0              60.85   \n",
       "11440         239     8       0         16.1           3              90.82   \n",
       "13873         290     0      30          9.5           8              96.36   \n",
       "6152          129     4       0         11.1           3              80.53   \n",
       "14240         297    16       0          6.4           0              57.00   \n",
       "7327          153    15      30         12.0           3              89.19   \n",
       "\n",
       "       Pressure  Precipitable Water  Week   Day Part  \n",
       "2912       1010                 2.4     9  Afternoon  \n",
       "4770       1009                 2.2    15    Morning  \n",
       "14459      1010                 1.7    44    Morning  \n",
       "3363       1018                 0.8    11      Night  \n",
       "1190        999                 1.0     4    Evening  \n",
       "17134      1012                 0.4    52      Night  \n",
       "6344        997                 2.0    20      Night  \n",
       "8378       1006                 1.7    26  Afternoon  \n",
       "8502       1006                 1.6    26      Night  \n",
       "7270       1012                 1.4    22    Morning  \n",
       "11440      1007                 2.2    35    Morning  \n",
       "13873      1009                 1.0    42      Night  \n",
       "6152       1006                 1.1    19      Night  \n",
       "14240      1015                 0.5    43  Afternoon  \n",
       "7327       1012                 1.6    22  Afternoon  "
      ]
     },
     "execution_count": 146,
     "metadata": {},
     "output_type": "execute_result"
    }
   ],
   "source": [
    "df_controlled_scaled_down.sample(n=15)"
   ]
  },
  {
   "cell_type": "code",
   "execution_count": 147,
   "id": "8e56019d",
   "metadata": {},
   "outputs": [
    {
     "data": {
      "text/html": [
       "<div>\n",
       "<style scoped>\n",
       "    .dataframe tbody tr th:only-of-type {\n",
       "        vertical-align: middle;\n",
       "    }\n",
       "\n",
       "    .dataframe tbody tr th {\n",
       "        vertical-align: top;\n",
       "    }\n",
       "\n",
       "    .dataframe thead th {\n",
       "        text-align: right;\n",
       "    }\n",
       "</style>\n",
       "<table border=\"1\" class=\"dataframe\">\n",
       "  <thead>\n",
       "    <tr style=\"text-align: right;\">\n",
       "      <th></th>\n",
       "      <th>Year</th>\n",
       "      <th>Month</th>\n",
       "      <th>Day</th>\n",
       "      <th>Hour</th>\n",
       "      <th>Minute</th>\n",
       "      <th>Temperature</th>\n",
       "      <th>Cloud Type</th>\n",
       "      <th>Relative Humidity</th>\n",
       "      <th>Pressure</th>\n",
       "      <th>Precipitable Water</th>\n",
       "      <th>Time</th>\n",
       "      <th>Day Number</th>\n",
       "      <th>Week</th>\n",
       "      <th>Day Part</th>\n",
       "      <th>Season</th>\n",
       "    </tr>\n",
       "  </thead>\n",
       "  <tbody>\n",
       "    <tr>\n",
       "      <th>12696</th>\n",
       "      <td>2020</td>\n",
       "      <td>9</td>\n",
       "      <td>22</td>\n",
       "      <td>12</td>\n",
       "      <td>0</td>\n",
       "      <td>16.5</td>\n",
       "      <td>3</td>\n",
       "      <td>77.67</td>\n",
       "      <td>1005</td>\n",
       "      <td>2.5</td>\n",
       "      <td>720</td>\n",
       "      <td>265</td>\n",
       "      <td>38</td>\n",
       "      <td>0</td>\n",
       "      <td>0</td>\n",
       "    </tr>\n",
       "    <tr>\n",
       "      <th>5640</th>\n",
       "      <td>2020</td>\n",
       "      <td>4</td>\n",
       "      <td>28</td>\n",
       "      <td>12</td>\n",
       "      <td>0</td>\n",
       "      <td>10.8</td>\n",
       "      <td>8</td>\n",
       "      <td>82.57</td>\n",
       "      <td>1013</td>\n",
       "      <td>2.7</td>\n",
       "      <td>720</td>\n",
       "      <td>118</td>\n",
       "      <td>17</td>\n",
       "      <td>0</td>\n",
       "      <td>1</td>\n",
       "    </tr>\n",
       "    <tr>\n",
       "      <th>14721</th>\n",
       "      <td>2020</td>\n",
       "      <td>11</td>\n",
       "      <td>3</td>\n",
       "      <td>16</td>\n",
       "      <td>30</td>\n",
       "      <td>13.9</td>\n",
       "      <td>4</td>\n",
       "      <td>98.23</td>\n",
       "      <td>1000</td>\n",
       "      <td>2.2</td>\n",
       "      <td>990</td>\n",
       "      <td>307</td>\n",
       "      <td>44</td>\n",
       "      <td>0</td>\n",
       "      <td>0</td>\n",
       "    </tr>\n",
       "    <tr>\n",
       "      <th>5368</th>\n",
       "      <td>2020</td>\n",
       "      <td>4</td>\n",
       "      <td>22</td>\n",
       "      <td>20</td>\n",
       "      <td>0</td>\n",
       "      <td>10.4</td>\n",
       "      <td>0</td>\n",
       "      <td>92.55</td>\n",
       "      <td>1007</td>\n",
       "      <td>1.9</td>\n",
       "      <td>1200</td>\n",
       "      <td>112</td>\n",
       "      <td>17</td>\n",
       "      <td>1</td>\n",
       "      <td>1</td>\n",
       "    </tr>\n",
       "    <tr>\n",
       "      <th>9098</th>\n",
       "      <td>2020</td>\n",
       "      <td>7</td>\n",
       "      <td>9</td>\n",
       "      <td>13</td>\n",
       "      <td>0</td>\n",
       "      <td>16.8</td>\n",
       "      <td>3</td>\n",
       "      <td>72.27</td>\n",
       "      <td>1007</td>\n",
       "      <td>2.1</td>\n",
       "      <td>780</td>\n",
       "      <td>190</td>\n",
       "      <td>28</td>\n",
       "      <td>0</td>\n",
       "      <td>2</td>\n",
       "    </tr>\n",
       "    <tr>\n",
       "      <th>1988</th>\n",
       "      <td>2020</td>\n",
       "      <td>2</td>\n",
       "      <td>11</td>\n",
       "      <td>10</td>\n",
       "      <td>0</td>\n",
       "      <td>7.3</td>\n",
       "      <td>4</td>\n",
       "      <td>95.32</td>\n",
       "      <td>1014</td>\n",
       "      <td>1.2</td>\n",
       "      <td>600</td>\n",
       "      <td>42</td>\n",
       "      <td>7</td>\n",
       "      <td>2</td>\n",
       "      <td>3</td>\n",
       "    </tr>\n",
       "    <tr>\n",
       "      <th>16191</th>\n",
       "      <td>2020</td>\n",
       "      <td>12</td>\n",
       "      <td>4</td>\n",
       "      <td>7</td>\n",
       "      <td>30</td>\n",
       "      <td>6.6</td>\n",
       "      <td>0</td>\n",
       "      <td>96.26</td>\n",
       "      <td>1019</td>\n",
       "      <td>1.0</td>\n",
       "      <td>450</td>\n",
       "      <td>338</td>\n",
       "      <td>49</td>\n",
       "      <td>2</td>\n",
       "      <td>0</td>\n",
       "    </tr>\n",
       "    <tr>\n",
       "      <th>8422</th>\n",
       "      <td>2020</td>\n",
       "      <td>6</td>\n",
       "      <td>25</td>\n",
       "      <td>11</td>\n",
       "      <td>0</td>\n",
       "      <td>21.3</td>\n",
       "      <td>0</td>\n",
       "      <td>63.52</td>\n",
       "      <td>1009</td>\n",
       "      <td>2.1</td>\n",
       "      <td>660</td>\n",
       "      <td>176</td>\n",
       "      <td>26</td>\n",
       "      <td>2</td>\n",
       "      <td>2</td>\n",
       "    </tr>\n",
       "    <tr>\n",
       "      <th>4070</th>\n",
       "      <td>2020</td>\n",
       "      <td>3</td>\n",
       "      <td>26</td>\n",
       "      <td>19</td>\n",
       "      <td>0</td>\n",
       "      <td>5.2</td>\n",
       "      <td>8</td>\n",
       "      <td>93.07</td>\n",
       "      <td>1005</td>\n",
       "      <td>1.6</td>\n",
       "      <td>1140</td>\n",
       "      <td>85</td>\n",
       "      <td>13</td>\n",
       "      <td>1</td>\n",
       "      <td>1</td>\n",
       "    </tr>\n",
       "    <tr>\n",
       "      <th>8886</th>\n",
       "      <td>2020</td>\n",
       "      <td>7</td>\n",
       "      <td>5</td>\n",
       "      <td>3</td>\n",
       "      <td>0</td>\n",
       "      <td>9.9</td>\n",
       "      <td>0</td>\n",
       "      <td>93.80</td>\n",
       "      <td>1012</td>\n",
       "      <td>2.0</td>\n",
       "      <td>180</td>\n",
       "      <td>186</td>\n",
       "      <td>27</td>\n",
       "      <td>3</td>\n",
       "      <td>2</td>\n",
       "    </tr>\n",
       "    <tr>\n",
       "      <th>3451</th>\n",
       "      <td>2020</td>\n",
       "      <td>3</td>\n",
       "      <td>13</td>\n",
       "      <td>21</td>\n",
       "      <td>30</td>\n",
       "      <td>1.9</td>\n",
       "      <td>8</td>\n",
       "      <td>78.47</td>\n",
       "      <td>994</td>\n",
       "      <td>0.8</td>\n",
       "      <td>1290</td>\n",
       "      <td>72</td>\n",
       "      <td>11</td>\n",
       "      <td>3</td>\n",
       "      <td>3</td>\n",
       "    </tr>\n",
       "    <tr>\n",
       "      <th>1870</th>\n",
       "      <td>2020</td>\n",
       "      <td>2</td>\n",
       "      <td>8</td>\n",
       "      <td>23</td>\n",
       "      <td>0</td>\n",
       "      <td>3.3</td>\n",
       "      <td>0</td>\n",
       "      <td>82.52</td>\n",
       "      <td>1020</td>\n",
       "      <td>0.6</td>\n",
       "      <td>1380</td>\n",
       "      <td>39</td>\n",
       "      <td>6</td>\n",
       "      <td>3</td>\n",
       "      <td>3</td>\n",
       "    </tr>\n",
       "    <tr>\n",
       "      <th>6456</th>\n",
       "      <td>2020</td>\n",
       "      <td>5</td>\n",
       "      <td>15</td>\n",
       "      <td>12</td>\n",
       "      <td>0</td>\n",
       "      <td>14.7</td>\n",
       "      <td>4</td>\n",
       "      <td>64.54</td>\n",
       "      <td>1010</td>\n",
       "      <td>1.7</td>\n",
       "      <td>720</td>\n",
       "      <td>135</td>\n",
       "      <td>20</td>\n",
       "      <td>0</td>\n",
       "      <td>1</td>\n",
       "    </tr>\n",
       "    <tr>\n",
       "      <th>2785</th>\n",
       "      <td>2020</td>\n",
       "      <td>2</td>\n",
       "      <td>28</td>\n",
       "      <td>0</td>\n",
       "      <td>30</td>\n",
       "      <td>5.4</td>\n",
       "      <td>4</td>\n",
       "      <td>94.98</td>\n",
       "      <td>1013</td>\n",
       "      <td>1.2</td>\n",
       "      <td>30</td>\n",
       "      <td>59</td>\n",
       "      <td>9</td>\n",
       "      <td>3</td>\n",
       "      <td>3</td>\n",
       "    </tr>\n",
       "    <tr>\n",
       "      <th>16880</th>\n",
       "      <td>2020</td>\n",
       "      <td>12</td>\n",
       "      <td>18</td>\n",
       "      <td>16</td>\n",
       "      <td>0</td>\n",
       "      <td>9.8</td>\n",
       "      <td>8</td>\n",
       "      <td>94.52</td>\n",
       "      <td>997</td>\n",
       "      <td>2.0</td>\n",
       "      <td>960</td>\n",
       "      <td>352</td>\n",
       "      <td>51</td>\n",
       "      <td>0</td>\n",
       "      <td>0</td>\n",
       "    </tr>\n",
       "  </tbody>\n",
       "</table>\n",
       "</div>"
      ],
      "text/plain": [
       "       Year  Month  Day  Hour  Minute  Temperature  Cloud Type  \\\n",
       "12696  2020      9   22    12       0         16.5           3   \n",
       "5640   2020      4   28    12       0         10.8           8   \n",
       "14721  2020     11    3    16      30         13.9           4   \n",
       "5368   2020      4   22    20       0         10.4           0   \n",
       "9098   2020      7    9    13       0         16.8           3   \n",
       "1988   2020      2   11    10       0          7.3           4   \n",
       "16191  2020     12    4     7      30          6.6           0   \n",
       "8422   2020      6   25    11       0         21.3           0   \n",
       "4070   2020      3   26    19       0          5.2           8   \n",
       "8886   2020      7    5     3       0          9.9           0   \n",
       "3451   2020      3   13    21      30          1.9           8   \n",
       "1870   2020      2    8    23       0          3.3           0   \n",
       "6456   2020      5   15    12       0         14.7           4   \n",
       "2785   2020      2   28     0      30          5.4           4   \n",
       "16880  2020     12   18    16       0          9.8           8   \n",
       "\n",
       "       Relative Humidity  Pressure  Precipitable Water  Time  Day Number  \\\n",
       "12696              77.67      1005                 2.5   720         265   \n",
       "5640               82.57      1013                 2.7   720         118   \n",
       "14721              98.23      1000                 2.2   990         307   \n",
       "5368               92.55      1007                 1.9  1200         112   \n",
       "9098               72.27      1007                 2.1   780         190   \n",
       "1988               95.32      1014                 1.2   600          42   \n",
       "16191              96.26      1019                 1.0   450         338   \n",
       "8422               63.52      1009                 2.1   660         176   \n",
       "4070               93.07      1005                 1.6  1140          85   \n",
       "8886               93.80      1012                 2.0   180         186   \n",
       "3451               78.47       994                 0.8  1290          72   \n",
       "1870               82.52      1020                 0.6  1380          39   \n",
       "6456               64.54      1010                 1.7   720         135   \n",
       "2785               94.98      1013                 1.2    30          59   \n",
       "16880              94.52       997                 2.0   960         352   \n",
       "\n",
       "       Week  Day Part  Season  \n",
       "12696    38         0       0  \n",
       "5640     17         0       1  \n",
       "14721    44         0       0  \n",
       "5368     17         1       1  \n",
       "9098     28         0       2  \n",
       "1988      7         2       3  \n",
       "16191    49         2       0  \n",
       "8422     26         2       2  \n",
       "4070     13         1       1  \n",
       "8886     27         3       2  \n",
       "3451     11         3       3  \n",
       "1870      6         3       3  \n",
       "6456     20         0       1  \n",
       "2785      9         3       3  \n",
       "16880    51         0       0  "
      ]
     },
     "execution_count": 147,
     "metadata": {},
     "output_type": "execute_result"
    }
   ],
   "source": [
    "df_controlled_unordered.sample(n=15)"
   ]
  },
  {
   "cell_type": "markdown",
   "id": "af748a4e",
   "metadata": {},
   "source": [
    "#### Long Term"
   ]
  },
  {
   "cell_type": "code",
   "execution_count": 148,
   "id": "4e4eaa82",
   "metadata": {},
   "outputs": [],
   "source": [
    "# train, test = sklearn.model_selection.train_test_split(df_controlled_scaled_up, test_size=0.2, random_state = 4)\n",
    "# x_train = train[['Month', 'Temperature', 'Cloud Type', 'Relative Humidity', 'Pressure', 'Time', Week', 'Day Part', 'Season']]\n",
    "# y_train = train[['Precipitable Water']]\n",
    "# x_test = test[['Month', 'Temperature', 'Cloud Type', 'Relative Humidity', 'Pressure', 'Time', Week', 'Day Part', 'Season']]\n",
    "# y_test = test[['Precipitable Water']]"
   ]
  },
  {
   "cell_type": "markdown",
   "id": "604d8a0a",
   "metadata": {},
   "source": [
    "#### Short Term"
   ]
  },
  {
   "cell_type": "code",
   "execution_count": 149,
   "id": "397c44a6",
   "metadata": {},
   "outputs": [],
   "source": [
    "# train, test = sklearn.model_selection.train_test_split(df_controlled_scaled_down, test_size=0.2, random_state = 4)\n",
    "# x_train = train[['Day Number', 'Time', 'Temperature', 'Cloud Type', 'Relative Humidity', 'Pressure', 'Week']]\n",
    "# y_train = train[['Precipitable Water']]\n",
    "# x_test = test[['Month','Day Number', 'Hour', 'Minute', 'Temperature', 'Cloud Type', 'Relative Humidity', 'Pressure', 'Week']]\n",
    "# y_test = test[['Precipitable Water']]"
   ]
  },
  {
   "cell_type": "markdown",
   "id": "15f56fd6",
   "metadata": {},
   "source": [
    "#### Overall"
   ]
  },
  {
   "cell_type": "code",
   "execution_count": 58,
   "id": "a56e935e",
   "metadata": {},
   "outputs": [],
   "source": [
    "train, test = sklearn.model_selection.train_test_split(df_controlled_unordered, test_size=0.2, random_state = 4)\n",
    "x_train = train[['Season', 'Temperature', 'Cloud Type', 'Relative Humidity', 'Pressure']]\n",
    "y_train = train[['Precipitable Water']]\n",
    "x_test = test[['Season', 'Temperature', 'Cloud Type', 'Relative Humidity', 'Pressure']]\n",
    "y_test = test[['Precipitable Water']]"
   ]
  },
  {
   "cell_type": "markdown",
   "id": "3f4c116f",
   "metadata": {},
   "source": [
    "1. Fix categorical variables\n",
    "2. Think if any other variables impact precipitable water"
   ]
  },
  {
   "cell_type": "markdown",
   "id": "d71ff1bd",
   "metadata": {},
   "source": [
    "### Baseline (Polynomial Regression)"
   ]
  },
  {
   "cell_type": "code",
   "execution_count": 41,
   "id": "6269b9cb",
   "metadata": {},
   "outputs": [],
   "source": [
    "import math"
   ]
  },
  {
   "cell_type": "code",
   "execution_count": 42,
   "id": "15fd27c3",
   "metadata": {},
   "outputs": [],
   "source": [
    "def sh(rh, temp, p):\n",
    "    sh_val = rh*(3800)*math.exp(17.625/(temp+243.04))/p\n",
    "    return sh_val"
   ]
  },
  {
   "cell_type": "code",
   "execution_count": 43,
   "id": "66823a3e",
   "metadata": {},
   "outputs": [],
   "source": [
    "df_controlled_unordered['Specific Humidity'] = df_controlled_unordered.apply(lambda df : sh(float(df['Relative Humidity']), float(df['Temperature']), float(df['Pressure'])), axis = 1)\n"
   ]
  },
  {
   "cell_type": "code",
   "execution_count": 44,
   "id": "ed65dc02",
   "metadata": {},
   "outputs": [],
   "source": [
    "train, test = sklearn.model_selection.train_test_split(df_controlled_unordered, test_size=0.2, random_state = 4)\n",
    "x_train = train[['Specific Humidity']]\n",
    "y_train = train[['Precipitable Water']]\n",
    "x_test = test[['Specific Humidity']]\n",
    "y_test = test[['Precipitable Water']]"
   ]
  },
  {
   "cell_type": "code",
   "execution_count": 45,
   "id": "0df3f9cf",
   "metadata": {},
   "outputs": [
    {
     "data": {
      "text/html": [
       "<style>#sk-container-id-1 {color: black;background-color: white;}#sk-container-id-1 pre{padding: 0;}#sk-container-id-1 div.sk-toggleable {background-color: white;}#sk-container-id-1 label.sk-toggleable__label {cursor: pointer;display: block;width: 100%;margin-bottom: 0;padding: 0.3em;box-sizing: border-box;text-align: center;}#sk-container-id-1 label.sk-toggleable__label-arrow:before {content: \"▸\";float: left;margin-right: 0.25em;color: #696969;}#sk-container-id-1 label.sk-toggleable__label-arrow:hover:before {color: black;}#sk-container-id-1 div.sk-estimator:hover label.sk-toggleable__label-arrow:before {color: black;}#sk-container-id-1 div.sk-toggleable__content {max-height: 0;max-width: 0;overflow: hidden;text-align: left;background-color: #f0f8ff;}#sk-container-id-1 div.sk-toggleable__content pre {margin: 0.2em;color: black;border-radius: 0.25em;background-color: #f0f8ff;}#sk-container-id-1 input.sk-toggleable__control:checked~div.sk-toggleable__content {max-height: 200px;max-width: 100%;overflow: auto;}#sk-container-id-1 input.sk-toggleable__control:checked~label.sk-toggleable__label-arrow:before {content: \"▾\";}#sk-container-id-1 div.sk-estimator input.sk-toggleable__control:checked~label.sk-toggleable__label {background-color: #d4ebff;}#sk-container-id-1 div.sk-label input.sk-toggleable__control:checked~label.sk-toggleable__label {background-color: #d4ebff;}#sk-container-id-1 input.sk-hidden--visually {border: 0;clip: rect(1px 1px 1px 1px);clip: rect(1px, 1px, 1px, 1px);height: 1px;margin: -1px;overflow: hidden;padding: 0;position: absolute;width: 1px;}#sk-container-id-1 div.sk-estimator {font-family: monospace;background-color: #f0f8ff;border: 1px dotted black;border-radius: 0.25em;box-sizing: border-box;margin-bottom: 0.5em;}#sk-container-id-1 div.sk-estimator:hover {background-color: #d4ebff;}#sk-container-id-1 div.sk-parallel-item::after {content: \"\";width: 100%;border-bottom: 1px solid gray;flex-grow: 1;}#sk-container-id-1 div.sk-label:hover label.sk-toggleable__label {background-color: #d4ebff;}#sk-container-id-1 div.sk-serial::before {content: \"\";position: absolute;border-left: 1px solid gray;box-sizing: border-box;top: 0;bottom: 0;left: 50%;z-index: 0;}#sk-container-id-1 div.sk-serial {display: flex;flex-direction: column;align-items: center;background-color: white;padding-right: 0.2em;padding-left: 0.2em;position: relative;}#sk-container-id-1 div.sk-item {position: relative;z-index: 1;}#sk-container-id-1 div.sk-parallel {display: flex;align-items: stretch;justify-content: center;background-color: white;position: relative;}#sk-container-id-1 div.sk-item::before, #sk-container-id-1 div.sk-parallel-item::before {content: \"\";position: absolute;border-left: 1px solid gray;box-sizing: border-box;top: 0;bottom: 0;left: 50%;z-index: -1;}#sk-container-id-1 div.sk-parallel-item {display: flex;flex-direction: column;z-index: 1;position: relative;background-color: white;}#sk-container-id-1 div.sk-parallel-item:first-child::after {align-self: flex-end;width: 50%;}#sk-container-id-1 div.sk-parallel-item:last-child::after {align-self: flex-start;width: 50%;}#sk-container-id-1 div.sk-parallel-item:only-child::after {width: 0;}#sk-container-id-1 div.sk-dashed-wrapped {border: 1px dashed gray;margin: 0 0.4em 0.5em 0.4em;box-sizing: border-box;padding-bottom: 0.4em;background-color: white;}#sk-container-id-1 div.sk-label label {font-family: monospace;font-weight: bold;display: inline-block;line-height: 1.2em;}#sk-container-id-1 div.sk-label-container {text-align: center;}#sk-container-id-1 div.sk-container {/* jupyter's `normalize.less` sets `[hidden] { display: none; }` but bootstrap.min.css set `[hidden] { display: none !important; }` so we also need the `!important` here to be able to override the default hidden behavior on the sphinx rendered scikit-learn.org. See: https://github.com/scikit-learn/scikit-learn/issues/21755 */display: inline-block !important;position: relative;}#sk-container-id-1 div.sk-text-repr-fallback {display: none;}</style><div id=\"sk-container-id-1\" class=\"sk-top-container\"><div class=\"sk-text-repr-fallback\"><pre>LinearRegression()</pre><b>In a Jupyter environment, please rerun this cell to show the HTML representation or trust the notebook. <br />On GitHub, the HTML representation is unable to render, please try loading this page with nbviewer.org.</b></div><div class=\"sk-container\" hidden><div class=\"sk-item\"><div class=\"sk-estimator sk-toggleable\"><input class=\"sk-toggleable__control sk-hidden--visually\" id=\"sk-estimator-id-1\" type=\"checkbox\" checked><label for=\"sk-estimator-id-1\" class=\"sk-toggleable__label sk-toggleable__label-arrow\">LinearRegression</label><div class=\"sk-toggleable__content\"><pre>LinearRegression()</pre></div></div></div></div></div>"
      ],
      "text/plain": [
       "LinearRegression()"
      ]
     },
     "execution_count": 45,
     "metadata": {},
     "output_type": "execute_result"
    }
   ],
   "source": [
    "from sklearn import linear_model\n",
    "linear_regression = linear_model.LinearRegression()\n",
    "linear_regression.fit(x_train, y_train)"
   ]
  },
  {
   "cell_type": "code",
   "execution_count": 46,
   "id": "8df8fb7c",
   "metadata": {},
   "outputs": [],
   "source": [
    "y_predicted = linear_regression.predict(x_test)"
   ]
  },
  {
   "cell_type": "code",
   "execution_count": 47,
   "id": "4efc0f78",
   "metadata": {},
   "outputs": [
    {
     "data": {
      "text/plain": [
       "[<matplotlib.lines.Line2D at 0x28b951af0>]"
      ]
     },
     "execution_count": 47,
     "metadata": {},
     "output_type": "execute_result"
    },
    {
     "data": {
      "image/png": "[encoded data removed]",
      "text/plain": [
       "<Figure size 432x288 with 1 Axes>"
      ]
     },
     "metadata": {
      "needs_background": "light"
     },
     "output_type": "display_data"
    }
   ],
   "source": [
    "plt.scatter(x_train, y_train,color='g') \n",
    "plt.plot(x_test, y_predicted,color='k') "
   ]
  },
  {
   "cell_type": "code",
   "execution_count": 48,
   "id": "db586a13",
   "metadata": {},
   "outputs": [
    {
     "data": {
      "text/plain": [
       "3744     373.332125\n",
       "3745     373.332125\n",
       "3746     372.570792\n",
       "3747     372.570792\n",
       "3748     371.845398\n",
       "            ...    \n",
       "17509    394.742422\n",
       "17510    389.327124\n",
       "17511    391.922465\n",
       "17512    389.625002\n",
       "17513    389.625002\n",
       "Name: Specific Humidity, Length: 17520, dtype: float64"
      ]
     },
     "execution_count": 48,
     "metadata": {},
     "output_type": "execute_result"
    }
   ],
   "source": [
    "df_controlled_unordered['Specific Humidity']"
   ]
  },
  {
   "cell_type": "markdown",
   "id": "471d265c",
   "metadata": {},
   "source": [
    "### Random Forest"
   ]
  },
  {
   "cell_type": "code",
   "execution_count": 151,
   "id": "3945ff6b",
   "metadata": {},
   "outputs": [
    {
     "name": "stderr",
     "output_type": "stream",
     "text": [
      "/var/folders/s4/kwh94x893cx7r1phpl_k4fk80000gn/T/ipykernel_12669/2747051691.py:3: DataConversionWarning: A column-vector y was passed when a 1d array was expected. Please change the shape of y to (n_samples,), for example using ravel().\n",
      "  forest_regression.fit(x_train, y_train)\n"
     ]
    },
    {
     "data": {
      "text/html": [
       "<style>#sk-container-id-4 {color: black;background-color: white;}#sk-container-id-4 pre{padding: 0;}#sk-container-id-4 div.sk-toggleable {background-color: white;}#sk-container-id-4 label.sk-toggleable__label {cursor: pointer;display: block;width: 100%;margin-bottom: 0;padding: 0.3em;box-sizing: border-box;text-align: center;}#sk-container-id-4 label.sk-toggleable__label-arrow:before {content: \"▸\";float: left;margin-right: 0.25em;color: #696969;}#sk-container-id-4 label.sk-toggleable__label-arrow:hover:before {color: black;}#sk-container-id-4 div.sk-estimator:hover label.sk-toggleable__label-arrow:before {color: black;}#sk-container-id-4 div.sk-toggleable__content {max-height: 0;max-width: 0;overflow: hidden;text-align: left;background-color: #f0f8ff;}#sk-container-id-4 div.sk-toggleable__content pre {margin: 0.2em;color: black;border-radius: 0.25em;background-color: #f0f8ff;}#sk-container-id-4 input.sk-toggleable__control:checked~div.sk-toggleable__content {max-height: 200px;max-width: 100%;overflow: auto;}#sk-container-id-4 input.sk-toggleable__control:checked~label.sk-toggleable__label-arrow:before {content: \"▾\";}#sk-container-id-4 div.sk-estimator input.sk-toggleable__control:checked~label.sk-toggleable__label {background-color: #d4ebff;}#sk-container-id-4 div.sk-label input.sk-toggleable__control:checked~label.sk-toggleable__label {background-color: #d4ebff;}#sk-container-id-4 input.sk-hidden--visually {border: 0;clip: rect(1px 1px 1px 1px);clip: rect(1px, 1px, 1px, 1px);height: 1px;margin: -1px;overflow: hidden;padding: 0;position: absolute;width: 1px;}#sk-container-id-4 div.sk-estimator {font-family: monospace;background-color: #f0f8ff;border: 1px dotted black;border-radius: 0.25em;box-sizing: border-box;margin-bottom: 0.5em;}#sk-container-id-4 div.sk-estimator:hover {background-color: #d4ebff;}#sk-container-id-4 div.sk-parallel-item::after {content: \"\";width: 100%;border-bottom: 1px solid gray;flex-grow: 1;}#sk-container-id-4 div.sk-label:hover label.sk-toggleable__label {background-color: #d4ebff;}#sk-container-id-4 div.sk-serial::before {content: \"\";position: absolute;border-left: 1px solid gray;box-sizing: border-box;top: 0;bottom: 0;left: 50%;z-index: 0;}#sk-container-id-4 div.sk-serial {display: flex;flex-direction: column;align-items: center;background-color: white;padding-right: 0.2em;padding-left: 0.2em;position: relative;}#sk-container-id-4 div.sk-item {position: relative;z-index: 1;}#sk-container-id-4 div.sk-parallel {display: flex;align-items: stretch;justify-content: center;background-color: white;position: relative;}#sk-container-id-4 div.sk-item::before, #sk-container-id-4 div.sk-parallel-item::before {content: \"\";position: absolute;border-left: 1px solid gray;box-sizing: border-box;top: 0;bottom: 0;left: 50%;z-index: -1;}#sk-container-id-4 div.sk-parallel-item {display: flex;flex-direction: column;z-index: 1;position: relative;background-color: white;}#sk-container-id-4 div.sk-parallel-item:first-child::after {align-self: flex-end;width: 50%;}#sk-container-id-4 div.sk-parallel-item:last-child::after {align-self: flex-start;width: 50%;}#sk-container-id-4 div.sk-parallel-item:only-child::after {width: 0;}#sk-container-id-4 div.sk-dashed-wrapped {border: 1px dashed gray;margin: 0 0.4em 0.5em 0.4em;box-sizing: border-box;padding-bottom: 0.4em;background-color: white;}#sk-container-id-4 div.sk-label label {font-family: monospace;font-weight: bold;display: inline-block;line-height: 1.2em;}#sk-container-id-4 div.sk-label-container {text-align: center;}#sk-container-id-4 div.sk-container {/* jupyter's `normalize.less` sets `[hidden] { display: none; }` but bootstrap.min.css set `[hidden] { display: none !important; }` so we also need the `!important` here to be able to override the default hidden behavior on the sphinx rendered scikit-learn.org. See: https://github.com/scikit-learn/scikit-learn/issues/21755 */display: inline-block !important;position: relative;}#sk-container-id-4 div.sk-text-repr-fallback {display: none;}</style><div id=\"sk-container-id-4\" class=\"sk-top-container\"><div class=\"sk-text-repr-fallback\"><pre>RandomForestRegressor()</pre><b>In a Jupyter environment, please rerun this cell to show the HTML representation or trust the notebook. <br />On GitHub, the HTML representation is unable to render, please try loading this page with nbviewer.org.</b></div><div class=\"sk-container\" hidden><div class=\"sk-item\"><div class=\"sk-estimator sk-toggleable\"><input class=\"sk-toggleable__control sk-hidden--visually\" id=\"sk-estimator-id-4\" type=\"checkbox\" checked><label for=\"sk-estimator-id-4\" class=\"sk-toggleable__label sk-toggleable__label-arrow\">RandomForestRegressor</label><div class=\"sk-toggleable__content\"><pre>RandomForestRegressor()</pre></div></div></div></div></div>"
      ],
      "text/plain": [
       "RandomForestRegressor()"
      ]
     },
     "execution_count": 151,
     "metadata": {},
     "output_type": "execute_result"
    }
   ],
   "source": [
    "from sklearn.ensemble import RandomForestRegressor\n",
    "forest_regression = RandomForestRegressor()\n",
    "forest_regression.fit(x_train, y_train)"
   ]
  },
  {
   "cell_type": "code",
   "execution_count": 152,
   "id": "ea7001d5",
   "metadata": {},
   "outputs": [],
   "source": [
    "y_predicted = forest_regression.predict(x_test)"
   ]
  },
  {
   "cell_type": "code",
   "execution_count": 153,
   "id": "b29988da",
   "metadata": {
    "scrolled": true
   },
   "outputs": [
    {
     "name": "stdout",
     "output_type": "stream",
     "text": [
      "R-squared: 0.835233153801852\n",
      "Mean Absolute Error: 0.19367311779734725\n",
      "Mean Squared Error: 0.08603896835598644\n",
      "Root Mean Squared Error: 0.29332399894312505\n",
      "RMSE represents the square root of the variance of the residuals\n"
     ]
    }
   ],
   "source": [
    "from sklearn import metrics\n",
    "\n",
    "print('R-squared:', metrics.r2_score(y_test, y_predicted))\n",
    "print('Mean Absolute Error:', metrics.mean_absolute_error(y_test, y_predicted))\n",
    "print('Mean Squared Error:', metrics.mean_squared_error(y_test, y_predicted))\n",
    "print('Root Mean Squared Error:', np.sqrt(metrics.mean_squared_error(y_test, y_predicted)))\n",
    "print('RMSE represents the square root of the variance of the residuals')"
   ]
  },
  {
   "cell_type": "markdown",
   "id": "557180e8",
   "metadata": {},
   "source": [
    "### Linear Regression"
   ]
  },
  {
   "cell_type": "code",
   "execution_count": 154,
   "id": "9c7a83cf",
   "metadata": {},
   "outputs": [
    {
     "data": {
      "text/html": [
       "<style>#sk-container-id-5 {color: black;background-color: white;}#sk-container-id-5 pre{padding: 0;}#sk-container-id-5 div.sk-toggleable {background-color: white;}#sk-container-id-5 label.sk-toggleable__label {cursor: pointer;display: block;width: 100%;margin-bottom: 0;padding: 0.3em;box-sizing: border-box;text-align: center;}#sk-container-id-5 label.sk-toggleable__label-arrow:before {content: \"▸\";float: left;margin-right: 0.25em;color: #696969;}#sk-container-id-5 label.sk-toggleable__label-arrow:hover:before {color: black;}#sk-container-id-5 div.sk-estimator:hover label.sk-toggleable__label-arrow:before {color: black;}#sk-container-id-5 div.sk-toggleable__content {max-height: 0;max-width: 0;overflow: hidden;text-align: left;background-color: #f0f8ff;}#sk-container-id-5 div.sk-toggleable__content pre {margin: 0.2em;color: black;border-radius: 0.25em;background-color: #f0f8ff;}#sk-container-id-5 input.sk-toggleable__control:checked~div.sk-toggleable__content {max-height: 200px;max-width: 100%;overflow: auto;}#sk-container-id-5 input.sk-toggleable__control:checked~label.sk-toggleable__label-arrow:before {content: \"▾\";}#sk-container-id-5 div.sk-estimator input.sk-toggleable__control:checked~label.sk-toggleable__label {background-color: #d4ebff;}#sk-container-id-5 div.sk-label input.sk-toggleable__control:checked~label.sk-toggleable__label {background-color: #d4ebff;}#sk-container-id-5 input.sk-hidden--visually {border: 0;clip: rect(1px 1px 1px 1px);clip: rect(1px, 1px, 1px, 1px);height: 1px;margin: -1px;overflow: hidden;padding: 0;position: absolute;width: 1px;}#sk-container-id-5 div.sk-estimator {font-family: monospace;background-color: #f0f8ff;border: 1px dotted black;border-radius: 0.25em;box-sizing: border-box;margin-bottom: 0.5em;}#sk-container-id-5 div.sk-estimator:hover {background-color: #d4ebff;}#sk-container-id-5 div.sk-parallel-item::after {content: \"\";width: 100%;border-bottom: 1px solid gray;flex-grow: 1;}#sk-container-id-5 div.sk-label:hover label.sk-toggleable__label {background-color: #d4ebff;}#sk-container-id-5 div.sk-serial::before {content: \"\";position: absolute;border-left: 1px solid gray;box-sizing: border-box;top: 0;bottom: 0;left: 50%;z-index: 0;}#sk-container-id-5 div.sk-serial {display: flex;flex-direction: column;align-items: center;background-color: white;padding-right: 0.2em;padding-left: 0.2em;position: relative;}#sk-container-id-5 div.sk-item {position: relative;z-index: 1;}#sk-container-id-5 div.sk-parallel {display: flex;align-items: stretch;justify-content: center;background-color: white;position: relative;}#sk-container-id-5 div.sk-item::before, #sk-container-id-5 div.sk-parallel-item::before {content: \"\";position: absolute;border-left: 1px solid gray;box-sizing: border-box;top: 0;bottom: 0;left: 50%;z-index: -1;}#sk-container-id-5 div.sk-parallel-item {display: flex;flex-direction: column;z-index: 1;position: relative;background-color: white;}#sk-container-id-5 div.sk-parallel-item:first-child::after {align-self: flex-end;width: 50%;}#sk-container-id-5 div.sk-parallel-item:last-child::after {align-self: flex-start;width: 50%;}#sk-container-id-5 div.sk-parallel-item:only-child::after {width: 0;}#sk-container-id-5 div.sk-dashed-wrapped {border: 1px dashed gray;margin: 0 0.4em 0.5em 0.4em;box-sizing: border-box;padding-bottom: 0.4em;background-color: white;}#sk-container-id-5 div.sk-label label {font-family: monospace;font-weight: bold;display: inline-block;line-height: 1.2em;}#sk-container-id-5 div.sk-label-container {text-align: center;}#sk-container-id-5 div.sk-container {/* jupyter's `normalize.less` sets `[hidden] { display: none; }` but bootstrap.min.css set `[hidden] { display: none !important; }` so we also need the `!important` here to be able to override the default hidden behavior on the sphinx rendered scikit-learn.org. See: https://github.com/scikit-learn/scikit-learn/issues/21755 */display: inline-block !important;position: relative;}#sk-container-id-5 div.sk-text-repr-fallback {display: none;}</style><div id=\"sk-container-id-5\" class=\"sk-top-container\"><div class=\"sk-text-repr-fallback\"><pre>LinearRegression()</pre><b>In a Jupyter environment, please rerun this cell to show the HTML representation or trust the notebook. <br />On GitHub, the HTML representation is unable to render, please try loading this page with nbviewer.org.</b></div><div class=\"sk-container\" hidden><div class=\"sk-item\"><div class=\"sk-estimator sk-toggleable\"><input class=\"sk-toggleable__control sk-hidden--visually\" id=\"sk-estimator-id-5\" type=\"checkbox\" checked><label for=\"sk-estimator-id-5\" class=\"sk-toggleable__label sk-toggleable__label-arrow\">LinearRegression</label><div class=\"sk-toggleable__content\"><pre>LinearRegression()</pre></div></div></div></div></div>"
      ],
      "text/plain": [
       "LinearRegression()"
      ]
     },
     "execution_count": 154,
     "metadata": {},
     "output_type": "execute_result"
    }
   ],
   "source": [
    "from sklearn import linear_model\n",
    "linear_regression = linear_model.LinearRegression()\n",
    "linear_regression.fit(x_train, y_train)"
   ]
  },
  {
   "cell_type": "code",
   "execution_count": 155,
   "id": "df4951a0",
   "metadata": {},
   "outputs": [],
   "source": [
    "y_predicted = linear_regression.predict(x_test)"
   ]
  },
  {
   "cell_type": "code",
   "execution_count": 156,
   "id": "586e3367",
   "metadata": {},
   "outputs": [
    {
     "name": "stdout",
     "output_type": "stream",
     "text": [
      "R-squared: 0.6329234425816104\n",
      "Mean Absolute Error: 0.3360638447961988\n",
      "Mean Squared Error: 0.19168230160795693\n",
      "Root Mean Squared Error: 0.43781537388259556\n",
      "RMSE represents the square root of the variance of the residuals\n"
     ]
    }
   ],
   "source": [
    "from sklearn import metrics\n",
    "\n",
    "print('R-squared:', metrics.r2_score(y_test, y_predicted))\n",
    "print('Mean Absolute Error:', metrics.mean_absolute_error(y_test, y_predicted))\n",
    "print('Mean Squared Error:', metrics.mean_squared_error(y_test, y_predicted))\n",
    "print('Root Mean Squared Error:', np.sqrt(metrics.mean_squared_error(y_test, y_predicted)))\n",
    "print('RMSE represents the square root of the variance of the residuals')"
   ]
  }
 ],
 "metadata": {
  "kernelspec": {
   "display_name": "Python 3 (ipykernel)",
   "language": "python",
   "name": "python3"
  },
  "language_info": {
   "codemirror_mode": {
    "name": "ipython",
    "version": 3
   },
   "file_extension": ".py",
   "mimetype": "text/x-python",
   "name": "python",
   "nbconvert_exporter": "python",
   "pygments_lexer": "ipython3",
   "version": "3.8.13"
  }
 },
 "nbformat": 4,
 "nbformat_minor": 5
}
