{
 "cells": [
  {
   "cell_type": "code",
   "execution_count": 12,
   "id": "329a3f87",
   "metadata": {},
   "outputs": [],
   "source": [
    "import warnings\n",
    "warnings.filterwarnings(\"ignore\")\n",
    "import pandas as pd\n",
    "import numpy as np\n",
    "import seaborn as sns\n",
    "import matplotlib.pyplot as plt\n",
    "import xgboost\n",
    "import tensorflow as tf\n",
    "import sklearn\n",
    "import sys, os\n",
    "import requests\n",
    "import time\n",
    "import math\n",
    "from sklearn.ensemble import RandomForestRegressor"
   ]
  },
  {
   "cell_type": "code",
   "execution_count": 13,
   "id": "6bda10bc",
   "metadata": {},
   "outputs": [],
   "source": [
    "data = pd.read_csv('USMAP_3000points.csv')"
   ]
  },
  {
   "cell_type": "code",
   "execution_count": 14,
   "id": "9d10e0f1",
   "metadata": {},
   "outputs": [],
   "source": [
    "attr ='air_temperature, clearsky_dhi, clearsky_dni, clearsky_ghi, cloud_type, dew_point, dhi, dni, fill_flag, ghi, relative_humidity, solar_zenith_angle, surface_albedo, surface_pressure, total_precipitable_water, wind_direction, wind_speed'\n",
    "leap = 'false'\n",
    "interval = '30'\n",
    "utc = 'false'\n",
    "name = 'Archit+Gupta'\n",
    "affiliation = 'NTU'\n",
    "mailing_list = 'false'\n",
    "reason = 'Research'\n",
    "email = 'archit001@e.ntu.edu'\n",
    "api_key = 'yJWqNPJq3NXlbvu4kpQfqjOUln0Nh4unfovTLvHW'"
   ]
  },
  {
   "cell_type": "code",
   "execution_count": 15,
   "id": "7bf950c5",
   "metadata": {},
   "outputs": [],
   "source": [
    "def dayCalculator(month, day):\n",
    "    month_to_days = {}\n",
    "    month_to_days[1] = 0\n",
    "    month_to_days[2] = 31\n",
    "    month_to_days[3] = 28\n",
    "    month_to_days[4] = 31\n",
    "    month_to_days[5] = 30\n",
    "    month_to_days[6] = 31\n",
    "    month_to_days[7] = 30\n",
    "    month_to_days[8] = 31\n",
    "    month_to_days[9] = 31\n",
    "    month_to_days[10] = 30\n",
    "    month_to_days[11] = 31\n",
    "    month_to_days[12] = 30\n",
    "    \n",
    "    total_days = 0\n",
    "    for i in range(1, month+1):\n",
    "        total_days = total_days + month_to_days[i]\n",
    "    total_days = total_days + day\n",
    "    return total_days"
   ]
  },
  {
   "cell_type": "markdown",
   "id": "9772d184",
   "metadata": {},
   "source": [
    "# Compiled Dataframe"
   ]
  },
  {
   "cell_type": "code",
   "execution_count": 16,
   "id": "ac27be52",
   "metadata": {},
   "outputs": [
    {
     "data": {
      "text/plain": [
       "lat     48.0\n",
       "lon   -124.5\n",
       "Name: 0, dtype: float64"
      ]
     },
     "execution_count": 16,
     "metadata": {},
     "output_type": "execute_result"
    }
   ],
   "source": [
    "data.iloc[0]"
   ]
  },
  {
   "cell_type": "markdown",
   "id": "ce3a2031",
   "metadata": {},
   "source": [
    "## Using Dataframes"
   ]
  },
  {
   "cell_type": "code",
   "execution_count": 17,
   "id": "7c8462af",
   "metadata": {},
   "outputs": [],
   "source": [
    "compiled_df = pd.DataFrame()"
   ]
  },
  {
   "cell_type": "code",
   "execution_count": 18,
   "id": "537692dd",
   "metadata": {},
   "outputs": [
    {
     "data": {
      "text/plain": [
       "0"
      ]
     },
     "execution_count": 18,
     "metadata": {},
     "output_type": "execute_result"
    }
   ],
   "source": [
    "len(compiled_df)"
   ]
  },
  {
   "cell_type": "code",
   "execution_count": 19,
   "id": "07eba706",
   "metadata": {},
   "outputs": [],
   "source": [
    "def masterCompilation(n):\n",
    "     for i in range(0, n):\n",
    "        count = i\n",
    "        print(count+1, ' started')\n",
    "        i = np.random.randint(len(data)-1)\n",
    "        # load coordinate data\n",
    "        val = data.iloc[i]\n",
    "        lat = val[0]\n",
    "        lon = val[1]\n",
    "        \n",
    "        # load all years data\n",
    "        api_key = 'yJWqNPJq3NXlbvu4kpQfqjOUln0Nh4unfovTLvHW'\n",
    "\n",
    "        url98 = 'http://developer.nrel.gov/api/solar/nsrdb_psm3_download.csv?wkt=POINT({lon}%20{lat})&names={year}&leap_day={leap}&interval={interval}&utc={utc}&full_name={name}&email={email}&affiliation={affiliation}&mailing_list={mailing_list}&reason={reason}&api_key={api}&attributes={attr}'.format(year=1998, lat=lat, lon=lon, leap=leap, interval=interval, utc=utc, name=name, email=email, mailing_list=mailing_list, affiliation=affiliation, reason=reason, api=api_key, attr=attr)\n",
    "        url98 = url98.replace(\" \",\"\")\n",
    "\n",
    "        url99 = 'http://developer.nrel.gov/api/solar/nsrdb_psm3_download.csv?wkt=POINT({lon}%20{lat})&names={year}&leap_day={leap}&interval={interval}&utc={utc}&full_name={name}&email={email}&affiliation={affiliation}&mailing_list={mailing_list}&reason={reason}&api_key={api}&attributes={attr}'.format(year=1999, lat=lat, lon=lon, leap=leap, interval=interval, utc=utc, name=name, email=email, mailing_list=mailing_list, affiliation=affiliation, reason=reason, api=api_key, attr=attr)\n",
    "        url99 = url99.replace(\" \",\"\")\n",
    "\n",
    "        url00 = 'http://developer.nrel.gov/api/solar/nsrdb_psm3_download.csv?wkt=POINT({lon}%20{lat})&names={year}&leap_day={leap}&interval={interval}&utc={utc}&full_name={name}&email={email}&affiliation={affiliation}&mailing_list={mailing_list}&reason={reason}&api_key={api}&attributes={attr}'.format(year=2000, lat=lat, lon=lon, leap=leap, interval=interval, utc=utc, name=name, email=email, mailing_list=mailing_list, affiliation=affiliation, reason=reason, api=api_key, attr=attr)\n",
    "        url00 = url00.replace(\" \",\"\")\n",
    "\n",
    "        url01 = 'http://developer.nrel.gov/api/solar/nsrdb_psm3_download.csv?wkt=POINT({lon}%20{lat})&names={year}&leap_day={leap}&interval={interval}&utc={utc}&full_name={name}&email={email}&affiliation={affiliation}&mailing_list={mailing_list}&reason={reason}&api_key={api}&attributes={attr}'.format(year=2001, lat=lat, lon=lon, leap=leap, interval=interval, utc=utc, name=name, email=email, mailing_list=mailing_list, affiliation=affiliation, reason=reason, api=api_key, attr=attr)\n",
    "        url01 = url01.replace(\" \",\"\")\n",
    "\n",
    "        url02 = 'http://developer.nrel.gov/api/solar/nsrdb_psm3_download.csv?wkt=POINT({lon}%20{lat})&names={year}&leap_day={leap}&interval={interval}&utc={utc}&full_name={name}&email={email}&affiliation={affiliation}&mailing_list={mailing_list}&reason={reason}&api_key={api}&attributes={attr}'.format(year=2002, lat=lat, lon=lon, leap=leap, interval=interval, utc=utc, name=name, email=email, mailing_list=mailing_list, affiliation=affiliation, reason=reason, api=api_key, attr=attr)\n",
    "        url02 = url02.replace(\" \",\"\")\n",
    "\n",
    "        url03 = 'http://developer.nrel.gov/api/solar/nsrdb_psm3_download.csv?wkt=POINT({lon}%20{lat})&names={year}&leap_day={leap}&interval={interval}&utc={utc}&full_name={name}&email={email}&affiliation={affiliation}&mailing_list={mailing_list}&reason={reason}&api_key={api}&attributes={attr}'.format(year=2003, lat=lat, lon=lon, leap=leap, interval=interval, utc=utc, name=name, email=email, mailing_list=mailing_list, affiliation=affiliation, reason=reason, api=api_key, attr=attr)\n",
    "        url03 = url03.replace(\" \",\"\")\n",
    "\n",
    "        url04 = 'http://developer.nrel.gov/api/solar/nsrdb_psm3_download.csv?wkt=POINT({lon}%20{lat})&names={year}&leap_day={leap}&interval={interval}&utc={utc}&full_name={name}&email={email}&affiliation={affiliation}&mailing_list={mailing_list}&reason={reason}&api_key={api}&attributes={attr}'.format(year=2004, lat=lat, lon=lon, leap=leap, interval=interval, utc=utc, name=name, email=email, mailing_list=mailing_list, affiliation=affiliation, reason=reason, api=api_key, attr=attr)\n",
    "        url04 = url04.replace(\" \",\"\")\n",
    "\n",
    "        url05 = 'http://developer.nrel.gov/api/solar/nsrdb_psm3_download.csv?wkt=POINT({lon}%20{lat})&names={year}&leap_day={leap}&interval={interval}&utc={utc}&full_name={name}&email={email}&affiliation={affiliation}&mailing_list={mailing_list}&reason={reason}&api_key={api}&attributes={attr}'.format(year=2005, lat=lat, lon=lon, leap=leap, interval=interval, utc=utc, name=name, email=email, mailing_list=mailing_list, affiliation=affiliation, reason=reason, api=api_key, attr=attr)\n",
    "        url05 = url05.replace(\" \",\"\")\n",
    "\n",
    "        url06 = 'http://developer.nrel.gov/api/solar/nsrdb_psm3_download.csv?wkt=POINT({lon}%20{lat})&names={year}&leap_day={leap}&interval={interval}&utc={utc}&full_name={name}&email={email}&affiliation={affiliation}&mailing_list={mailing_list}&reason={reason}&api_key={api}&attributes={attr}'.format(year=2006, lat=lat, lon=lon, leap=leap, interval=interval, utc=utc, name=name, email=email, mailing_list=mailing_list, affiliation=affiliation, reason=reason, api=api_key, attr=attr)\n",
    "        url06 = url06.replace(\" \",\"\")\n",
    "\n",
    "        url07 = 'http://developer.nrel.gov/api/solar/nsrdb_psm3_download.csv?wkt=POINT({lon}%20{lat})&names={year}&leap_day={leap}&interval={interval}&utc={utc}&full_name={name}&email={email}&affiliation={affiliation}&mailing_list={mailing_list}&reason={reason}&api_key={api}&attributes={attr}'.format(year=2007, lat=lat, lon=lon, leap=leap, interval=interval, utc=utc, name=name, email=email, mailing_list=mailing_list, affiliation=affiliation, reason=reason, api=api_key, attr=attr)\n",
    "        url07 = url07.replace(\" \",\"\")\n",
    "\n",
    "        url08 = 'http://developer.nrel.gov/api/solar/nsrdb_psm3_download.csv?wkt=POINT({lon}%20{lat})&names={year}&leap_day={leap}&interval={interval}&utc={utc}&full_name={name}&email={email}&affiliation={affiliation}&mailing_list={mailing_list}&reason={reason}&api_key={api}&attributes={attr}'.format(year=2008, lat=lat, lon=lon, leap=leap, interval=interval, utc=utc, name=name, email=email, mailing_list=mailing_list, affiliation=affiliation, reason=reason, api=api_key, attr=attr)\n",
    "        url08 = url08.replace(\" \",\"\")\n",
    "\n",
    "        url09 = 'http://developer.nrel.gov/api/solar/nsrdb_psm3_download.csv?wkt=POINT({lon}%20{lat})&names={year}&leap_day={leap}&interval={interval}&utc={utc}&full_name={name}&email={email}&affiliation={affiliation}&mailing_list={mailing_list}&reason={reason}&api_key={api}&attributes={attr}'.format(year=2009, lat=lat, lon=lon, leap=leap, interval=interval, utc=utc, name=name, email=email, mailing_list=mailing_list, affiliation=affiliation, reason=reason, api=api_key, attr=attr)\n",
    "        url09 = url09.replace(\" \",\"\")\n",
    "\n",
    "        url10 = 'http://developer.nrel.gov/api/solar/nsrdb_psm3_download.csv?wkt=POINT({lon}%20{lat})&names={year}&leap_day={leap}&interval={interval}&utc={utc}&full_name={name}&email={email}&affiliation={affiliation}&mailing_list={mailing_list}&reason={reason}&api_key={api}&attributes={attr}'.format(year=2010, lat=lat, lon=lon, leap=leap, interval=interval, utc=utc, name=name, email=email, mailing_list=mailing_list, affiliation=affiliation, reason=reason, api=api_key, attr=attr)\n",
    "        url10 = url10.replace(\" \",\"\")\n",
    "\n",
    "        url11 = 'http://developer.nrel.gov/api/solar/nsrdb_psm3_download.csv?wkt=POINT({lon}%20{lat})&names={year}&leap_day={leap}&interval={interval}&utc={utc}&full_name={name}&email={email}&affiliation={affiliation}&mailing_list={mailing_list}&reason={reason}&api_key={api}&attributes={attr}'.format(year=2011, lat=lat, lon=lon, leap=leap, interval=interval, utc=utc, name=name, email=email, mailing_list=mailing_list, affiliation=affiliation, reason=reason, api=api_key, attr=attr)\n",
    "        url11 = url11.replace(\" \",\"\")\n",
    "\n",
    "        url12 = 'http://developer.nrel.gov/api/solar/nsrdb_psm3_download.csv?wkt=POINT({lon}%20{lat})&names={year}&leap_day={leap}&interval={interval}&utc={utc}&full_name={name}&email={email}&affiliation={affiliation}&mailing_list={mailing_list}&reason={reason}&api_key={api}&attributes={attr}'.format(year=2012, lat=lat, lon=lon, leap=leap, interval=interval, utc=utc, name=name, email=email, mailing_list=mailing_list, affiliation=affiliation, reason=reason, api=api_key, attr=attr)\n",
    "        url12 = url12.replace(\" \",\"\")\n",
    "\n",
    "        url13 = 'http://developer.nrel.gov/api/solar/nsrdb_psm3_download.csv?wkt=POINT({lon}%20{lat})&names={year}&leap_day={leap}&interval={interval}&utc={utc}&full_name={name}&email={email}&affiliation={affiliation}&mailing_list={mailing_list}&reason={reason}&api_key={api}&attributes={attr}'.format(year=2013, lat=lat, lon=lon, leap=leap, interval=interval, utc=utc, name=name, email=email, mailing_list=mailing_list, affiliation=affiliation, reason=reason, api=api_key, attr=attr)\n",
    "        url13 = url13.replace(\" \",\"\")\n",
    "\n",
    "        url14 = 'http://developer.nrel.gov/api/solar/nsrdb_psm3_download.csv?wkt=POINT({lon}%20{lat})&names={year}&leap_day={leap}&interval={interval}&utc={utc}&full_name={name}&email={email}&affiliation={affiliation}&mailing_list={mailing_list}&reason={reason}&api_key={api}&attributes={attr}'.format(year=2014, lat=lat, lon=lon, leap=leap, interval=interval, utc=utc, name=name, email=email, mailing_list=mailing_list, affiliation=affiliation, reason=reason, api=api_key, attr=attr)\n",
    "        url14 = url14.replace(\" \",\"\")\n",
    "\n",
    "        url15 = 'http://developer.nrel.gov/api/solar/nsrdb_psm3_download.csv?wkt=POINT({lon}%20{lat})&names={year}&leap_day={leap}&interval={interval}&utc={utc}&full_name={name}&email={email}&affiliation={affiliation}&mailing_list={mailing_list}&reason={reason}&api_key={api}&attributes={attr}'.format(year=2015, lat=lat, lon=lon, leap=leap, interval=interval, utc=utc, name=name, email=email, mailing_list=mailing_list, affiliation=affiliation, reason=reason, api=api_key, attr=attr)\n",
    "        url15 = url15.replace(\" \",\"\")\n",
    "\n",
    "        url16 = 'http://developer.nrel.gov/api/solar/nsrdb_psm3_download.csv?wkt=POINT({lon}%20{lat})&names={year}&leap_day={leap}&interval={interval}&utc={utc}&full_name={name}&email={email}&affiliation={affiliation}&mailing_list={mailing_list}&reason={reason}&api_key={api}&attributes={attr}'.format(year=2016, lat=lat, lon=lon, leap=leap, interval=interval, utc=utc, name=name, email=email, mailing_list=mailing_list, affiliation=affiliation, reason=reason, api=api_key, attr=attr)\n",
    "        url16 = url16.replace(\" \",\"\")\n",
    "\n",
    "        url17 = 'http://developer.nrel.gov/api/solar/nsrdb_psm3_download.csv?wkt=POINT({lon}%20{lat})&names={year}&leap_day={leap}&interval={interval}&utc={utc}&full_name={name}&email={email}&affiliation={affiliation}&mailing_list={mailing_list}&reason={reason}&api_key={api}&attributes={attr}'.format(year=2017, lat=lat, lon=lon, leap=leap, interval=interval, utc=utc, name=name, email=email, mailing_list=mailing_list, affiliation=affiliation, reason=reason, api=api_key, attr=attr)\n",
    "        url17 = url17.replace(\" \",\"\")\n",
    "\n",
    "        url18 = 'http://developer.nrel.gov/api/solar/nsrdb_psm3_download.csv?wkt=POINT({lon}%20{lat})&names={year}&leap_day={leap}&interval={interval}&utc={utc}&full_name={name}&email={email}&affiliation={affiliation}&mailing_list={mailing_list}&reason={reason}&api_key={api}&attributes={attr}'.format(year=2018, lat=lat, lon=lon, leap=leap, interval=interval, utc=utc, name=name, email=email, mailing_list=mailing_list, affiliation=affiliation, reason=reason, api=api_key, attr=attr)\n",
    "        url18 = url18.replace(\" \",\"\")\n",
    "\n",
    "        url19 = 'http://developer.nrel.gov/api/solar/nsrdb_psm3_download.csv?wkt=POINT({lon}%20{lat})&names={year}&leap_day={leap}&interval={interval}&utc={utc}&full_name={name}&email={email}&affiliation={affiliation}&mailing_list={mailing_list}&reason={reason}&api_key={api}&attributes={attr}'.format(year=2019, lat=lat, lon=lon, leap=leap, interval=interval, utc=utc, name=name, email=email, mailing_list=mailing_list, affiliation=affiliation, reason=reason, api=api_key, attr=attr)\n",
    "        url19 = url19.replace(\" \",\"\")\n",
    "\n",
    "        url20 = 'http://developer.nrel.gov/api/solar/nsrdb_psm3_download.csv?wkt=POINT({lon}%20{lat})&names={year}&leap_day={leap}&interval={interval}&utc={utc}&full_name={name}&email={email}&affiliation={affiliation}&mailing_list={mailing_list}&reason={reason}&api_key={api}&attributes={attr}'.format(year=2020, lat=lat, lon=lon, leap=leap, interval=interval, utc=utc, name=name, email=email, mailing_list=mailing_list, affiliation=affiliation, reason=reason, api=api_key, attr=attr)\n",
    "        url20 = url20.replace(\" \",\"\")\n",
    "        \n",
    "        # loading positional data\n",
    "        info = pd.read_csv(url20, low_memory=False, nrows = 2)\n",
    "        latitude = info['Latitude']\n",
    "        longitude = info['Longitude']\n",
    "        elevation = info['Elevation']\n",
    "        time_zone = info['Local Time Zone']\n",
    "        \n",
    "        # compiling the dataframe\n",
    "        df98 = pd.read_csv(url98, low_memory=False, skiprows = 2)\n",
    "        df99 = pd.read_csv(url99, low_memory=False, skiprows = 2)\n",
    "        df00 = pd.read_csv(url00, low_memory=False, skiprows = 2)\n",
    "        df01 = pd.read_csv(url01, low_memory=False, skiprows = 2)\n",
    "        df02 = pd.read_csv(url02, low_memory=False, skiprows = 2)\n",
    "        df03 = pd.read_csv(url03, low_memory=False, skiprows = 2)\n",
    "        df04 = pd.read_csv(url04, low_memory=False, skiprows = 2)\n",
    "        df05 = pd.read_csv(url05, low_memory=False, skiprows = 2)\n",
    "        df06 = pd.read_csv(url06, low_memory=False, skiprows = 2)\n",
    "        df07 = pd.read_csv(url07, low_memory=False, skiprows = 2)\n",
    "        df08 = pd.read_csv(url08, low_memory=False, skiprows = 2)\n",
    "        df09 = pd.read_csv(url09, low_memory=False, skiprows = 2)\n",
    "        df10 = pd.read_csv(url10, low_memory=False, skiprows = 2)\n",
    "        df11 = pd.read_csv(url11, low_memory=False, skiprows = 2)\n",
    "        df12 = pd.read_csv(url12, low_memory=False, skiprows = 2)\n",
    "        df13 = pd.read_csv(url13, low_memory=False, skiprows = 2)\n",
    "        df14 = pd.read_csv(url14, low_memory=False, skiprows = 2)\n",
    "        df15 = pd.read_csv(url15, low_memory=False, skiprows = 2)\n",
    "        df16 = pd.read_csv(url16, low_memory=False, skiprows = 2)\n",
    "        df17 = pd.read_csv(url17, low_memory=False, skiprows = 2)\n",
    "        df18 = pd.read_csv(url18, low_memory=False, skiprows = 2)\n",
    "        df19 = pd.read_csv(url19, low_memory=False, skiprows = 2)\n",
    "        df20 = pd.read_csv(url20, low_memory=False, skiprows = 2)\n",
    "        \n",
    "        df = pd.concat([df98, df99, df00, df01, df02, df03, df04, df05, df06, df07, df08, df09, df10, df11, df12, df13, df14, df15, df16, df17, df18, df19, df20])\n",
    "        \n",
    "        # feature engineering\n",
    "        df['Latitude'] = latitude[0]\n",
    "        df['Longitude'] = longitude[0]\n",
    "        df['Elevation'] = elevation[0]\n",
    "        df['Day Number'] = df.apply(lambda df : dayCalculator(int(df['Month']), int(df['Day'])), axis = 1)\n",
    "        df['Time'] = df['Hour']*60 + df['Minute']\n",
    "        # df['Week'] = df.apply(lambda df : weekCalculator(int(df['Month']), int(df['Day'])), axis = 1)\n",
    "        # df['Specific Humidity'] = df.apply(lambda df : sh(float(df['Relative Humidity']), float(df['Temperature']), float(df['Pressure'])), axis = 1)\n",
    "        \n",
    "        # choose a subset of df\n",
    "        df = df.sample(8395)\n",
    "        \n",
    "        # append df to global_df\n",
    "        global compiled_df \n",
    "        compiled_df = compiled_df.append(df)\n",
    "        print(count+1, ' ended')"
   ]
  },
  {
   "cell_type": "markdown",
   "id": "a2df9570",
   "metadata": {},
   "source": [
    "## Using Lists"
   ]
  },
  {
   "cell_type": "markdown",
   "id": "e64e161d",
   "metadata": {},
   "source": [
    "## Running The Code"
   ]
  },
  {
   "cell_type": "code",
   "execution_count": 20,
   "id": "0f2080cc",
   "metadata": {},
   "outputs": [
    {
     "name": "stdout",
     "output_type": "stream",
     "text": [
      "1  started\n",
      "1  ended\n"
     ]
    }
   ],
   "source": [
    "masterCompilation(1)"
   ]
  },
  {
   "cell_type": "code",
   "execution_count": 21,
   "id": "c843a5f0",
   "metadata": {},
   "outputs": [
    {
     "data": {
      "text/plain": [
       "1.0"
      ]
     },
     "execution_count": 21,
     "metadata": {},
     "output_type": "execute_result"
    }
   ],
   "source": [
    "len(compiled_df)/8395"
   ]
  },
  {
   "cell_type": "code",
   "execution_count": 22,
   "id": "9a205aa0",
   "metadata": {},
   "outputs": [
    {
     "data": {
      "text/plain": [
       "10113    42.49\n",
       "753      42.49\n",
       "4981     42.49\n",
       "17007    42.49\n",
       "9958     42.49\n",
       "         ...  \n",
       "3525     42.49\n",
       "558      42.49\n",
       "8097     42.49\n",
       "3796     42.49\n",
       "472      42.49\n",
       "Name: Latitude, Length: 8395, dtype: object"
      ]
     },
     "execution_count": 22,
     "metadata": {},
     "output_type": "execute_result"
    }
   ],
   "source": [
    "compiled_df['Latitude']"
   ]
  },
  {
   "cell_type": "code",
   "execution_count": 23,
   "id": "47977e6d",
   "metadata": {},
   "outputs": [],
   "source": [
    "compiled_df.to_csv('random_location_0.csv')"
   ]
  }
 ],
 "metadata": {
  "kernelspec": {
   "display_name": "Python 3 (ipykernel)",
   "language": "python",
   "name": "python3"
  },
  "language_info": {
   "codemirror_mode": {
    "name": "ipython",
    "version": 3
   },
   "file_extension": ".py",
   "mimetype": "text/x-python",
   "name": "python",
   "nbconvert_exporter": "python",
   "pygments_lexer": "ipython3",
   "version": "3.8.13"
  }
 },
 "nbformat": 4,
 "nbformat_minor": 5
}
